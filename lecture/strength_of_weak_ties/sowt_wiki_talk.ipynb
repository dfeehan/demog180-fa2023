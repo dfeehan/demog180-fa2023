{
 "cells": [
  {
   "cell_type": "code",
   "execution_count": 1,
   "metadata": {},
   "outputs": [],
   "source": [
    "from IPython.core.display import HTML\n",
    "from datascience import *\n",
    "\n",
    "import matplotlib\n",
    "matplotlib.use('Agg')\n",
    "%matplotlib inline\n",
    "import matplotlib.pyplot as plt\n",
    "import numpy as np\n",
    "plt.style.use('fivethirtyeight')\n",
    "\n",
    "import os\n",
    "import pandas as pd\n",
    "import networkx as nx"
   ]
  },
  {
   "cell_type": "code",
   "execution_count": 2,
   "metadata": {},
   "outputs": [],
   "source": [
    "# this is where you'd grab the data online\n",
    "data_url = \"https://snap.stanford.edu/data/wiki-talk-temporal.txt.gz\"\n",
    "# to make things faster in lecture, I pre-saved the file on my computer\n",
    "#data_url = os.path.expanduser(os.path.join(\"~\", \"Dropbox\", \"data-explore\", \"wiki-talk\", \"wiki-talk-temporal.txt.gz\"))"
   ]
  },
  {
   "cell_type": "markdown",
   "metadata": {},
   "source": [
    "# Strength of weak ties in the Wiki Talk network"
   ]
  },
  {
   "cell_type": "markdown",
   "metadata": {},
   "source": [
    "We'll look at the WikiTalk network, which is avaialble at the [SNAP data archive](https://snap.stanford.edu/data/wiki-Talk.html).\n",
    "\n",
    "According to the website,\n",
    "\n",
    "> The network contains all the users and discussion from the inception of Wikipedia till January 2008. \n",
    ">  * Nodes in the network represent Wikipedia users \n",
    ">  * A directed edge from node i to node j means that user i edited a talk page of user j at least once.\n",
    "    \n"
   ]
  },
  {
   "cell_type": "markdown",
   "metadata": {},
   "source": [
    "### Read in the datset"
   ]
  },
  {
   "cell_type": "code",
   "execution_count": 3,
   "metadata": {},
   "outputs": [
    {
     "name": "stdout",
     "output_type": "stream",
     "text": [
      "CPU times: user 4.31 s, sys: 525 ms, total: 4.84 s\n",
      "Wall time: 6.31 s\n"
     ]
    },
    {
     "data": {
      "text/html": [
       "<div>\n",
       "<style scoped>\n",
       "    .dataframe tbody tr th:only-of-type {\n",
       "        vertical-align: middle;\n",
       "    }\n",
       "\n",
       "    .dataframe tbody tr th {\n",
       "        vertical-align: top;\n",
       "    }\n",
       "\n",
       "    .dataframe thead th {\n",
       "        text-align: right;\n",
       "    }\n",
       "</style>\n",
       "<table border=\"1\" class=\"dataframe\">\n",
       "  <thead>\n",
       "    <tr style=\"text-align: right;\">\n",
       "      <th></th>\n",
       "      <th>from</th>\n",
       "      <th>to</th>\n",
       "      <th>time</th>\n",
       "    </tr>\n",
       "  </thead>\n",
       "  <tbody>\n",
       "    <tr>\n",
       "      <th>0</th>\n",
       "      <td>0</td>\n",
       "      <td>1</td>\n",
       "      <td>1003638700</td>\n",
       "    </tr>\n",
       "    <tr>\n",
       "      <th>1</th>\n",
       "      <td>2</td>\n",
       "      <td>1</td>\n",
       "      <td>1030807083</td>\n",
       "    </tr>\n",
       "    <tr>\n",
       "      <th>2</th>\n",
       "      <td>3</td>\n",
       "      <td>1</td>\n",
       "      <td>1052654678</td>\n",
       "    </tr>\n",
       "    <tr>\n",
       "      <th>3</th>\n",
       "      <td>4</td>\n",
       "      <td>1</td>\n",
       "      <td>1094996163</td>\n",
       "    </tr>\n",
       "    <tr>\n",
       "      <th>4</th>\n",
       "      <td>5</td>\n",
       "      <td>1</td>\n",
       "      <td>1095491029</td>\n",
       "    </tr>\n",
       "  </tbody>\n",
       "</table>\n",
       "</div>"
      ],
      "text/plain": [
       "   from  to        time\n",
       "0     0   1  1003638700\n",
       "1     2   1  1030807083\n",
       "2     3   1  1052654678\n",
       "3     4   1  1094996163\n",
       "4     5   1  1095491029"
      ]
     },
     "execution_count": 3,
     "metadata": {},
     "output_type": "execute_result"
    }
   ],
   "source": [
    "%%time\n",
    "\n",
    "raw_data = pd.read_csv(data_url, sep=\" \", header=None)\n",
    "\n",
    "# rename the columns\n",
    "raw_data = raw_data.rename(index=str, columns={0 : \"from\", 1 : \"to\", 2 : \"time\"})\n",
    "raw_data.head()"
   ]
  },
  {
   "cell_type": "markdown",
   "metadata": {},
   "source": [
    "NB: this next cell takes about a minute"
   ]
  },
  {
   "cell_type": "code",
   "execution_count": 4,
   "metadata": {},
   "outputs": [
    {
     "name": "stdout",
     "output_type": "stream",
     "text": [
      "CPU times: user 39.2 s, sys: 1.44 s, total: 40.6 s\n",
      "Wall time: 40.7 s\n"
     ]
    }
   ],
   "source": [
    "%%time\n",
    "\n",
    "# create a network from the message logs\n",
    "raw_net = nx.from_pandas_edgelist(raw_data, \n",
    "                                   source='from', \n",
    "                                   target='to', \n",
    "                                   edge_attr=['time'], \n",
    "                                   create_using=nx.MultiDiGraph())"
   ]
  },
  {
   "cell_type": "markdown",
   "metadata": {},
   "source": [
    "Simplify the network structure to turn it into an undirected network."
   ]
  },
  {
   "cell_type": "code",
   "execution_count": 5,
   "metadata": {},
   "outputs": [
    {
     "name": "stdout",
     "output_type": "stream",
     "text": [
      "CPU times: user 15.2 s, sys: 100 ms, total: 15.3 s\n",
      "Wall time: 15.3 s\n"
     ]
    },
    {
     "data": {
      "text/plain": [
       "2348912"
      ]
     },
     "execution_count": 5,
     "metadata": {},
     "output_type": "execute_result"
    }
   ],
   "source": [
    "%%time\n",
    "\n",
    "# filter out directed edges between nodes where connection is reciprocated\n",
    "# (and also self-loops, if there are any)\n",
    "di_edges_recip = [(u,v,d) for (u,v,d) in raw_net.edges if (v,u) in raw_net.edges and v != u]\n",
    "\n",
    "len(di_edges_recip)"
   ]
  },
  {
   "cell_type": "code",
   "execution_count": 6,
   "metadata": {},
   "outputs": [
    {
     "name": "stdout",
     "output_type": "stream",
     "text": [
      "CPU times: user 7.13 s, sys: 65.8 ms, total: 7.2 s\n",
      "Wall time: 7.2 s\n"
     ]
    }
   ],
   "source": [
    "%%time\n",
    "\n",
    "# now create an undirected network with edges weighted by the number of interactions\n",
    "new_net = nx.Graph()\n",
    "for edge in di_edges_recip:\n",
    "    # if the edge is already in the network, add one to its weight\n",
    "    if (edge[0], edge[1]) in new_net.edges:\n",
    "        new_net[edge[0]][edge[1]]['weight'] = new_net[edge[0]][edge[1]]['weight'] + 1\n",
    "    # otherwise, add it\n",
    "    else:\n",
    "        new_net.add_edge(edge[0], edge[1], weight=1)\n",
    "        \n"
   ]
  },
  {
   "cell_type": "markdown",
   "metadata": {},
   "source": [
    "### Some general info about the network"
   ]
  },
  {
   "cell_type": "markdown",
   "metadata": {},
   "source": [
    "Number of nodes and edges:"
   ]
  },
  {
   "cell_type": "code",
   "execution_count": 7,
   "metadata": {},
   "outputs": [
    {
     "name": "stdout",
     "output_type": "stream",
     "text": [
      "Number of nodes:  93875\n",
      "Number of edges:  342775\n",
      "Average degree:  7.302796271637816\n"
     ]
    }
   ],
   "source": [
    "print(\"Number of nodes: \", new_net.number_of_nodes())\n",
    "print(\"Number of edges: \", new_net.number_of_edges())\n",
    "print(\"Average degree: \", 2*new_net.number_of_edges()/new_net.number_of_nodes())"
   ]
  },
  {
   "cell_type": "markdown",
   "metadata": {},
   "source": [
    "Extract the degrees into a Table, which we'll use to make a histogram of the degree distribution"
   ]
  },
  {
   "cell_type": "code",
   "execution_count": 8,
   "metadata": {},
   "outputs": [],
   "source": [
    "new_net_degrees = Table().with_columns([\n",
    "    'id', new_net.nodes(),\n",
    "    'degree', [d for (n,d) in new_net.degree] # this  gets list of degree values from the (node,degree) pairs\n",
    "])"
   ]
  },
  {
   "cell_type": "markdown",
   "metadata": {},
   "source": [
    "A very small number of nodes have very large degrees; for example, the largest degree is almost 1200"
   ]
  },
  {
   "cell_type": "code",
   "execution_count": 9,
   "metadata": {},
   "outputs": [
    {
     "data": {
      "text/plain": [
       "1197"
      ]
     },
     "execution_count": 9,
     "metadata": {},
     "output_type": "execute_result"
    }
   ],
   "source": [
    "np.max(new_net_degrees['degree'])"
   ]
  },
  {
   "cell_type": "markdown",
   "metadata": {},
   "source": [
    "... so to keep the histogram readable, let's only plot up to the 95th percentile"
   ]
  },
  {
   "cell_type": "code",
   "execution_count": 10,
   "metadata": {},
   "outputs": [
    {
     "data": {
      "text/plain": [
       "26.0"
      ]
     },
     "execution_count": 10,
     "metadata": {},
     "output_type": "execute_result"
    }
   ],
   "source": [
    "np.percentile(new_net_degrees['degree'], 95)"
   ]
  },
  {
   "cell_type": "code",
   "execution_count": 11,
   "metadata": {},
   "outputs": [
    {
     "data": {
      "image/png": "[encoded data removed]",
      "text/plain": [
       "<Figure size 432x288 with 1 Axes>"
      ]
     },
     "metadata": {},
     "output_type": "display_data"
    }
   ],
   "source": [
    "plt.hist(new_net_degrees['degree'], bins=np.arange(0,26,1));"
   ]
  },
  {
   "cell_type": "markdown",
   "metadata": {},
   "source": [
    "Look at the number of components and their size:"
   ]
  },
  {
   "cell_type": "code",
   "execution_count": 12,
   "metadata": {},
   "outputs": [
    {
     "name": "stdout",
     "output_type": "stream",
     "text": [
      "Number of components: 958\n",
      "frac nodes in GC:  0.9784607190412783\n",
      "CPU times: user 362 ms, sys: 8.9 ms, total: 371 ms\n",
      "Wall time: 370 ms\n"
     ]
    }
   ],
   "source": [
    "%%time\n",
    "\n",
    "# get the giant component\n",
    "new_net_components = sorted(nx.connected_components(new_net), key=len, reverse=True)\n",
    "\n",
    "print(\"Number of components:\", len(new_net_components))\n",
    "print(\"frac nodes in GC: \", new_net.subgraph(new_net_components[0]).number_of_nodes() / new_net.number_of_nodes())"
   ]
  },
  {
   "cell_type": "markdown",
   "metadata": {},
   "source": [
    "Pick out the giant component"
   ]
  },
  {
   "cell_type": "code",
   "execution_count": 13,
   "metadata": {},
   "outputs": [],
   "source": [
    "new_net_gc = new_net.subgraph(new_net_components[0])"
   ]
  },
  {
   "cell_type": "markdown",
   "metadata": {},
   "source": [
    "Recall that Onnela et al (2007) introduced the concept of *neighborhood overlap* as a way of quantifying how 'bridge-like' an edge is.  The *neighborhood overlap* of an edge joining a node A and a node B is defined to be\n",
    "\n",
    "$$\n",
    "\\text{neighborhood overlap} = \\frac{\\text{number of nodes who are neighbors of both A and B}}{\\text{number of nodes who are neighbors of at least one of A or B}}\n",
    "$$\n",
    "\n",
    "where the denominator does not count $A$ or $B$.\n",
    "\n",
    "The neighborhood overlap ranges from 0 to 1. For an edge that is a *local bridge*, the neighborhood overlap would be 0. For a bridge that joins two nodes who are completely interconnected (i.e., a very not 'bridge-like' edge), the neighborhood overlap would be 1.\n",
    "\n",
    "Let's calculate the neighborhood overlap of every edge in the giant component of our wiki talk network.\n",
    "\n",
    "(This takes about a minute and a half to do)"
   ]
  },
  {
   "cell_type": "code",
   "execution_count": 14,
   "metadata": {},
   "outputs": [
    {
     "name": "stdout",
     "output_type": "stream",
     "text": [
      "CPU times: user 1min 8s, sys: 53.2 ms, total: 1min 8s\n",
      "Wall time: 1min 8s\n"
     ]
    }
   ],
   "source": [
    "%%time\n",
    "\n",
    "# calculate the neighborhood overlap for each edge\n",
    "for edge in new_net_gc.edges:\n",
    "    \n",
    "    # grab the neighbors of the node at either end of this edge\n",
    "    # (not counting the two nodes involved in the edge)\n",
    "    u_nbrs = set(new_net_gc.neighbors(edge[0])) - set([edge[1]])\n",
    "    v_nbrs = set(new_net_gc.neighbors(edge[1])) - set([edge[0]])\n",
    "    \n",
    "    # figure out how many neighbors the neighborhoods have in common (numerator)\n",
    "    common_nbrs = len(u_nbrs & v_nbrs) \n",
    "    \n",
    "    # figure out how many unique neighbors they have between them\n",
    "    poss_nbrs = len(u_nbrs | v_nbrs)\n",
    "    \n",
    "    # calculate the neighborhood overlap and add it to the edge\n",
    "    # as an attribute\n",
    "    new_net_gc[edge[0]][edge[1]]['nbhd_overlap'] = common_nbrs / poss_nbrs"
   ]
  },
  {
   "cell_type": "markdown",
   "metadata": {},
   "source": [
    "### Plot the relationship between tie strength and neighborhood overlap"
   ]
  },
  {
   "cell_type": "markdown",
   "metadata": {},
   "source": [
    "As we saw in lecture, Onnela et al (2007) found that in their cell phone call network, edges that were bridge-like -- that is, edges with low values of neighborhood overlap -- tended to be weak ties.\n",
    "\n",
    "Let's see if that pattern holds up in the giant component of the wiki talk data."
   ]
  },
  {
   "cell_type": "markdown",
   "metadata": {},
   "source": [
    "Recall that we added neighborhood overlap to the edges in the giant component. To make plotting easier, let's now convert the giant component back into an edge list:"
   ]
  },
  {
   "cell_type": "code",
   "execution_count": 15,
   "metadata": {},
   "outputs": [
    {
     "data": {
      "text/html": [
       "<div>\n",
       "<style scoped>\n",
       "    .dataframe tbody tr th:only-of-type {\n",
       "        vertical-align: middle;\n",
       "    }\n",
       "\n",
       "    .dataframe tbody tr th {\n",
       "        vertical-align: top;\n",
       "    }\n",
       "\n",
       "    .dataframe thead th {\n",
       "        text-align: right;\n",
       "    }\n",
       "</style>\n",
       "<table border=\"1\" class=\"dataframe\">\n",
       "  <thead>\n",
       "    <tr style=\"text-align: right;\">\n",
       "      <th></th>\n",
       "      <th>source</th>\n",
       "      <th>target</th>\n",
       "      <th>weight</th>\n",
       "      <th>nbhd_overlap</th>\n",
       "    </tr>\n",
       "  </thead>\n",
       "  <tbody>\n",
       "    <tr>\n",
       "      <th>0</th>\n",
       "      <td>2</td>\n",
       "      <td>97</td>\n",
       "      <td>4</td>\n",
       "      <td>0.049645</td>\n",
       "    </tr>\n",
       "    <tr>\n",
       "      <th>1</th>\n",
       "      <td>2</td>\n",
       "      <td>111</td>\n",
       "      <td>19</td>\n",
       "      <td>0.039648</td>\n",
       "    </tr>\n",
       "    <tr>\n",
       "      <th>2</th>\n",
       "      <td>2</td>\n",
       "      <td>316</td>\n",
       "      <td>6</td>\n",
       "      <td>0.038202</td>\n",
       "    </tr>\n",
       "    <tr>\n",
       "      <th>3</th>\n",
       "      <td>2</td>\n",
       "      <td>321</td>\n",
       "      <td>3</td>\n",
       "      <td>0.050633</td>\n",
       "    </tr>\n",
       "    <tr>\n",
       "      <th>4</th>\n",
       "      <td>2</td>\n",
       "      <td>162</td>\n",
       "      <td>3</td>\n",
       "      <td>0.083333</td>\n",
       "    </tr>\n",
       "    <tr>\n",
       "      <th>...</th>\n",
       "      <td>...</td>\n",
       "      <td>...</td>\n",
       "      <td>...</td>\n",
       "      <td>...</td>\n",
       "    </tr>\n",
       "    <tr>\n",
       "      <th>341693</th>\n",
       "      <td>543706</td>\n",
       "      <td>543705</td>\n",
       "      <td>3</td>\n",
       "      <td>0.000000</td>\n",
       "    </tr>\n",
       "    <tr>\n",
       "      <th>341694</th>\n",
       "      <td>616580</td>\n",
       "      <td>538927</td>\n",
       "      <td>2</td>\n",
       "      <td>0.000000</td>\n",
       "    </tr>\n",
       "    <tr>\n",
       "      <th>341695</th>\n",
       "      <td>1006240</td>\n",
       "      <td>1006238</td>\n",
       "      <td>4</td>\n",
       "      <td>0.000000</td>\n",
       "    </tr>\n",
       "    <tr>\n",
       "      <th>341696</th>\n",
       "      <td>669876</td>\n",
       "      <td>669877</td>\n",
       "      <td>2</td>\n",
       "      <td>0.000000</td>\n",
       "    </tr>\n",
       "    <tr>\n",
       "      <th>341697</th>\n",
       "      <td>722951</td>\n",
       "      <td>722960</td>\n",
       "      <td>2</td>\n",
       "      <td>0.000000</td>\n",
       "    </tr>\n",
       "  </tbody>\n",
       "</table>\n",
       "<p>341698 rows × 4 columns</p>\n",
       "</div>"
      ],
      "text/plain": [
       "         source   target  weight  nbhd_overlap\n",
       "0             2       97       4      0.049645\n",
       "1             2      111      19      0.039648\n",
       "2             2      316       6      0.038202\n",
       "3             2      321       3      0.050633\n",
       "4             2      162       3      0.083333\n",
       "...         ...      ...     ...           ...\n",
       "341693   543706   543705       3      0.000000\n",
       "341694   616580   538927       2      0.000000\n",
       "341695  1006240  1006238       4      0.000000\n",
       "341696   669876   669877       2      0.000000\n",
       "341697   722951   722960       2      0.000000\n",
       "\n",
       "[341698 rows x 4 columns]"
      ]
     },
     "execution_count": 15,
     "metadata": {},
     "output_type": "execute_result"
    }
   ],
   "source": [
    "net_df = nx.to_pandas_edgelist(new_net_gc)\n",
    "\n",
    "net_df"
   ]
  },
  {
   "cell_type": "code",
   "execution_count": 16,
   "metadata": {},
   "outputs": [
    {
     "data": {
      "text/plain": [
       "<AxesSubplot:xlabel='weight', ylabel='nbhd_overlap'>"
      ]
     },
     "execution_count": 16,
     "metadata": {},
     "output_type": "execute_result"
    },
    {
     "data": {
      "image/png": "[encoded data removed]",
      "text/plain": [
       "<Figure size 432x288 with 1 Axes>"
      ]
     },
     "metadata": {},
     "output_type": "display_data"
    }
   ],
   "source": [
    "net_df.plot(kind='scatter', x='weight', y='nbhd_overlap')"
   ]
  },
  {
   "cell_type": "markdown",
   "metadata": {},
   "source": [
    "It's hard to tell what's going on from the plot above; there's a point for each edge (about 340k in total).\n",
    "\n",
    "We can plot each point with partial transparency to try to reveal where the mass of the data lies:"
   ]
  },
  {
   "cell_type": "code",
   "execution_count": 17,
   "metadata": {},
   "outputs": [
    {
     "data": {
      "text/plain": [
       "<AxesSubplot:xlabel='weight', ylabel='nbhd_overlap'>"
      ]
     },
     "execution_count": 17,
     "metadata": {},
     "output_type": "execute_result"
    },
    {
     "data": {
      "image/png": "[encoded data removed]",
      "text/plain": [
       "<Figure size 432x288 with 1 Axes>"
      ]
     },
     "metadata": {},
     "output_type": "display_data"
    }
   ],
   "source": [
    "net_df.plot(kind='scatter', x='weight', y='nbhd_overlap', alpha=.05)"
   ]
  },
  {
   "cell_type": "markdown",
   "metadata": {},
   "source": [
    "... but it's still pretty hard to really tell what's going on."
   ]
  },
  {
   "cell_type": "markdown",
   "metadata": {},
   "source": [
    "Let's group the ties into 10 different groups of equal size, from lowest weight to highest weight. Then we'll calculate the average neighborhood overlap within each of these groups.  (You might remember that Onnela et al did something similar in their analysis.) "
   ]
  },
  {
   "cell_type": "code",
   "execution_count": 18,
   "metadata": {},
   "outputs": [],
   "source": [
    "net_df['tie_strength'] = pd.qcut(net_df['weight'], 10, duplicates='drop')"
   ]
  },
  {
   "cell_type": "markdown",
   "metadata": {},
   "source": [
    "Let's look at the categories that Pandas created for us:"
   ]
  },
  {
   "cell_type": "code",
   "execution_count": 19,
   "metadata": {},
   "outputs": [
    {
     "data": {
      "text/plain": [
       "tie_strength\n",
       "(1.999, 3.0]      0.010859\n",
       "(3.0, 4.0]        0.013050\n",
       "(4.0, 5.0]        0.014897\n",
       "(5.0, 6.0]        0.016463\n",
       "(6.0, 8.0]        0.019234\n",
       "(8.0, 12.0]       0.023319\n",
       "(12.0, 1561.0]    0.037188\n",
       "Name: nbhd_overlap, dtype: float64"
      ]
     },
     "execution_count": 19,
     "metadata": {},
     "output_type": "execute_result"
    }
   ],
   "source": [
    "net_df.groupby('tie_strength')['nbhd_overlap'].mean()"
   ]
  },
  {
   "cell_type": "code",
   "execution_count": 20,
   "metadata": {},
   "outputs": [
    {
     "data": {
      "text/html": [
       "<div>\n",
       "<style scoped>\n",
       "    .dataframe tbody tr th:only-of-type {\n",
       "        vertical-align: middle;\n",
       "    }\n",
       "\n",
       "    .dataframe tbody tr th {\n",
       "        vertical-align: top;\n",
       "    }\n",
       "\n",
       "    .dataframe thead th {\n",
       "        text-align: right;\n",
       "    }\n",
       "</style>\n",
       "<table border=\"1\" class=\"dataframe\">\n",
       "  <thead>\n",
       "    <tr style=\"text-align: right;\">\n",
       "      <th></th>\n",
       "      <th>nbhd_overlap</th>\n",
       "      <th>tie_strength</th>\n",
       "    </tr>\n",
       "    <tr>\n",
       "      <th>tie_strength</th>\n",
       "      <th></th>\n",
       "      <th></th>\n",
       "    </tr>\n",
       "  </thead>\n",
       "  <tbody>\n",
       "    <tr>\n",
       "      <th>(1.999, 3.0]</th>\n",
       "      <td>0.010859</td>\n",
       "      <td>(1.999, 3.0]</td>\n",
       "    </tr>\n",
       "    <tr>\n",
       "      <th>(3.0, 4.0]</th>\n",
       "      <td>0.013050</td>\n",
       "      <td>(3.0, 4.0]</td>\n",
       "    </tr>\n",
       "    <tr>\n",
       "      <th>(4.0, 5.0]</th>\n",
       "      <td>0.014897</td>\n",
       "      <td>(4.0, 5.0]</td>\n",
       "    </tr>\n",
       "    <tr>\n",
       "      <th>(5.0, 6.0]</th>\n",
       "      <td>0.016463</td>\n",
       "      <td>(5.0, 6.0]</td>\n",
       "    </tr>\n",
       "    <tr>\n",
       "      <th>(6.0, 8.0]</th>\n",
       "      <td>0.019234</td>\n",
       "      <td>(6.0, 8.0]</td>\n",
       "    </tr>\n",
       "    <tr>\n",
       "      <th>(8.0, 12.0]</th>\n",
       "      <td>0.023319</td>\n",
       "      <td>(8.0, 12.0]</td>\n",
       "    </tr>\n",
       "    <tr>\n",
       "      <th>(12.0, 1561.0]</th>\n",
       "      <td>0.037188</td>\n",
       "      <td>(12.0, 1561.0]</td>\n",
       "    </tr>\n",
       "  </tbody>\n",
       "</table>\n",
       "</div>"
      ],
      "text/plain": [
       "                nbhd_overlap    tie_strength\n",
       "tie_strength                                \n",
       "(1.999, 3.0]        0.010859    (1.999, 3.0]\n",
       "(3.0, 4.0]          0.013050      (3.0, 4.0]\n",
       "(4.0, 5.0]          0.014897      (4.0, 5.0]\n",
       "(5.0, 6.0]          0.016463      (5.0, 6.0]\n",
       "(6.0, 8.0]          0.019234      (6.0, 8.0]\n",
       "(8.0, 12.0]         0.023319     (8.0, 12.0]\n",
       "(12.0, 1561.0]      0.037188  (12.0, 1561.0]"
      ]
     },
     "execution_count": 20,
     "metadata": {},
     "output_type": "execute_result"
    }
   ],
   "source": [
    "net_agg = pd.DataFrame(net_df.groupby('tie_strength')['nbhd_overlap'].mean())\n",
    "net_agg['tie_strength'] = net_agg.index\n",
    "net_agg"
   ]
  },
  {
   "cell_type": "code",
   "execution_count": 21,
   "metadata": {},
   "outputs": [
    {
     "data": {
      "image/png": "[encoded data removed]",
      "text/plain": [
       "<Figure size 432x288 with 1 Axes>"
      ]
     },
     "metadata": {},
     "output_type": "display_data"
    }
   ],
   "source": [
    "net_agg.plot(kind='bar', x='tie_strength', y='nbhd_overlap', color='royalblue');"
   ]
  },
  {
   "cell_type": "markdown",
   "metadata": {},
   "source": [
    "This looks roughly consistent with the Onnela et al finding we talked about in lecture: weak ties tend to have lower neighborhood overlap, making them more like local bridges."
   ]
  },
  {
   "cell_type": "code",
   "execution_count": null,
   "metadata": {},
   "outputs": [],
   "source": []
  },
  {
   "cell_type": "markdown",
   "metadata": {},
   "source": [
    "The analysis above roughly parallels the Onnela et al. paper. However, a student made an astute observation: **the strength of weak ties hypothesis really predicts that bridges will be weak ties; it does not necessarily imply that all weak ties are bridges**. This suggests that we should look at how the bridginess of a tie is related to average tie strength. In other words, it suggests that we want to flip the plot above so that neighborhood overlap is on the x axis and average tie strength is on the y axis.\n",
    "\n",
    "Let's do that now:"
   ]
  },
  {
   "cell_type": "code",
   "execution_count": 22,
   "metadata": {},
   "outputs": [],
   "source": [
    "net_df['no_bin'] = pd.qcut(net_df['nbhd_overlap'], 10, duplicates='drop')"
   ]
  },
  {
   "cell_type": "code",
   "execution_count": 23,
   "metadata": {},
   "outputs": [
    {
     "data": {
      "text/plain": [
       "no_bin\n",
       "(-0.001, 0.005]      4.652015\n",
       "(0.005, 0.0104]      5.838058\n",
       "(0.0104, 0.0173]     6.476642\n",
       "(0.0173, 0.0275]     7.336267\n",
       "(0.0275, 0.0458]     9.511938\n",
       "(0.0458, 1.0]       16.187390\n",
       "Name: weight, dtype: float64"
      ]
     },
     "execution_count": 23,
     "metadata": {},
     "output_type": "execute_result"
    }
   ],
   "source": [
    "net_df.groupby('no_bin')['weight'].mean()"
   ]
  },
  {
   "cell_type": "code",
   "execution_count": 24,
   "metadata": {},
   "outputs": [
    {
     "data": {
      "text/html": [
       "<div>\n",
       "<style scoped>\n",
       "    .dataframe tbody tr th:only-of-type {\n",
       "        vertical-align: middle;\n",
       "    }\n",
       "\n",
       "    .dataframe tbody tr th {\n",
       "        vertical-align: top;\n",
       "    }\n",
       "\n",
       "    .dataframe thead th {\n",
       "        text-align: right;\n",
       "    }\n",
       "</style>\n",
       "<table border=\"1\" class=\"dataframe\">\n",
       "  <thead>\n",
       "    <tr style=\"text-align: right;\">\n",
       "      <th></th>\n",
       "      <th>weight</th>\n",
       "      <th>nbhd_overlap</th>\n",
       "    </tr>\n",
       "    <tr>\n",
       "      <th>no_bin</th>\n",
       "      <th></th>\n",
       "      <th></th>\n",
       "    </tr>\n",
       "  </thead>\n",
       "  <tbody>\n",
       "    <tr>\n",
       "      <th>(-0.001, 0.005]</th>\n",
       "      <td>4.652015</td>\n",
       "      <td>(-0.001, 0.005]</td>\n",
       "    </tr>\n",
       "    <tr>\n",
       "      <th>(0.005, 0.0104]</th>\n",
       "      <td>5.838058</td>\n",
       "      <td>(0.005, 0.0104]</td>\n",
       "    </tr>\n",
       "    <tr>\n",
       "      <th>(0.0104, 0.0173]</th>\n",
       "      <td>6.476642</td>\n",
       "      <td>(0.0104, 0.0173]</td>\n",
       "    </tr>\n",
       "    <tr>\n",
       "      <th>(0.0173, 0.0275]</th>\n",
       "      <td>7.336267</td>\n",
       "      <td>(0.0173, 0.0275]</td>\n",
       "    </tr>\n",
       "    <tr>\n",
       "      <th>(0.0275, 0.0458]</th>\n",
       "      <td>9.511938</td>\n",
       "      <td>(0.0275, 0.0458]</td>\n",
       "    </tr>\n",
       "    <tr>\n",
       "      <th>(0.0458, 1.0]</th>\n",
       "      <td>16.187390</td>\n",
       "      <td>(0.0458, 1.0]</td>\n",
       "    </tr>\n",
       "  </tbody>\n",
       "</table>\n",
       "</div>"
      ],
      "text/plain": [
       "                     weight      nbhd_overlap\n",
       "no_bin                                       \n",
       "(-0.001, 0.005]    4.652015   (-0.001, 0.005]\n",
       "(0.005, 0.0104]    5.838058   (0.005, 0.0104]\n",
       "(0.0104, 0.0173]   6.476642  (0.0104, 0.0173]\n",
       "(0.0173, 0.0275]   7.336267  (0.0173, 0.0275]\n",
       "(0.0275, 0.0458]   9.511938  (0.0275, 0.0458]\n",
       "(0.0458, 1.0]     16.187390     (0.0458, 1.0]"
      ]
     },
     "execution_count": 24,
     "metadata": {},
     "output_type": "execute_result"
    }
   ],
   "source": [
    "net_agg2 = pd.DataFrame(net_df.groupby('no_bin')['weight'].mean())\n",
    "net_agg2['nbhd_overlap'] = net_agg2.index\n",
    "net_agg2"
   ]
  },
  {
   "cell_type": "code",
   "execution_count": 25,
   "metadata": {},
   "outputs": [
    {
     "data": {
      "image/png": "[encoded data removed]",
      "text/plain": [
       "<Figure size 432x288 with 1 Axes>"
      ]
     },
     "metadata": {},
     "output_type": "display_data"
    }
   ],
   "source": [
    "net_agg2.plot(kind='bar', x='nbhd_overlap', y='weight', color='royalblue');"
   ]
  },
  {
   "cell_type": "markdown",
   "metadata": {},
   "source": [
    "We see that, as the strength of weak ties hypothesis would predict, neighborhood overlap is positively associated with tie strength: the bins with larger neighborhood overlap values have higher average weights (tie strength)."
   ]
  },
  {
   "cell_type": "code",
   "execution_count": null,
   "metadata": {},
   "outputs": [],
   "source": []
  }
 ],
 "metadata": {
  "anaconda-cloud": {},
  "kernelspec": {
   "display_name": "Python 3",
   "language": "python",
   "name": "python3"
  },
  "language_info": {
   "codemirror_mode": {
    "name": "ipython",
    "version": 3
   },
   "file_extension": ".py",
   "mimetype": "text/x-python",
   "name": "python",
   "nbconvert_exporter": "python",
   "pygments_lexer": "ipython3",
   "version": "3.7.7"
  }
 },
 "nbformat": 4,
 "nbformat_minor": 1
}

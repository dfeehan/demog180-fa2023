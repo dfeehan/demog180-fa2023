{
 "cells": [
  {
   "cell_type": "code",
   "execution_count": null,
   "metadata": {
    "deletable": false,
    "editable": false
   },
   "outputs": [],
   "source": [
    "# Initialize Otter\n",
    "import otter\n",
    "grader = otter.Notebook(\"lab2_personal_networks.ipynb\")"
   ]
  },
  {
   "cell_type": "code",
   "execution_count": null,
   "metadata": {},
   "outputs": [],
   "source": [
    "# Import all the modules we need\n",
    "from IPython.core.display import HTML\n",
    "from datascience import *\n",
    "\n",
    "import os\n",
    "import matplotlib\n",
    "matplotlib.use('Agg')\n",
    "%matplotlib inline\n",
    "import matplotlib.pyplot as plt\n",
    "import numpy as np\n",
    "import pandas as pd\n",
    "plt.style.use('fivethirtyeight')\n",
    "\n",
    "import warnings\n",
    "warnings.simplefilter('ignore', FutureWarning)"
   ]
  },
  {
   "cell_type": "markdown",
   "metadata": {},
   "source": [
    "## Lab 2: Review of survey results\n",
    "### Load the survey responses"
   ]
  },
  {
   "cell_type": "code",
   "execution_count": null,
   "metadata": {},
   "outputs": [],
   "source": [
    "os.getcwd() # this is a line that tells you the current working directory. It's a helpful move before you want to load something.\n",
    "            # we are in the folder of lab2, so we can import the data directly."
   ]
  },
  {
   "cell_type": "code",
   "execution_count": null,
   "metadata": {},
   "outputs": [],
   "source": [
    "survey = Table.read_table('ucb_fa2023_personal_networks_rev.csv')"
   ]
  },
  {
   "cell_type": "markdown",
   "metadata": {},
   "source": [
    "How many responses are there?"
   ]
  },
  {
   "cell_type": "code",
   "execution_count": null,
   "metadata": {},
   "outputs": [],
   "source": [
    "num_rows = survey.num_rows\n",
    "num_rows"
   ]
  },
  {
   "cell_type": "markdown",
   "metadata": {},
   "source": [
    "### Who responded to the survey?"
   ]
  },
  {
   "cell_type": "markdown",
   "metadata": {},
   "source": [
    "Look at the age distribution of respondents"
   ]
  },
  {
   "cell_type": "code",
   "execution_count": null,
   "metadata": {},
   "outputs": [],
   "source": [
    "survey.select('respondent_age').hist()"
   ]
  },
  {
   "cell_type": "markdown",
   "metadata": {},
   "source": [
    "Look at the gender distribution"
   ]
  },
  {
   "cell_type": "code",
   "execution_count": null,
   "metadata": {},
   "outputs": [],
   "source": [
    "survey.group('respondent_gender').barh('respondent_gender')"
   ]
  },
  {
   "cell_type": "markdown",
   "metadata": {},
   "source": [
    "Look at the class distribution"
   ]
  },
  {
   "cell_type": "code",
   "execution_count": null,
   "metadata": {},
   "outputs": [],
   "source": [
    "survey.group('respondent_class').barh('respondent_class')"
   ]
  },
  {
   "cell_type": "markdown",
   "metadata": {},
   "source": [
    "### Relationship between respondent and first alter named: gender"
   ]
  },
  {
   "cell_type": "code",
   "execution_count": null,
   "metadata": {},
   "outputs": [],
   "source": [
    "#pd.crosstab(survey['respondent_gender'], survey['alter1_gender']) # this would show raw counts\n",
    "pd.crosstab(survey['respondent_gender'], survey['alter1_gender'], normalize='index')"
   ]
  },
  {
   "cell_type": "code",
   "execution_count": null,
   "metadata": {},
   "outputs": [],
   "source": [
    "pd.crosstab(survey['respondent_gender'], survey['alter1_gender']) # this would show raw counts"
   ]
  },
  {
   "cell_type": "code",
   "execution_count": null,
   "metadata": {},
   "outputs": [],
   "source": [
    "obs_frac_nonhom = (23 + 43) / (93 + 23 + 43 + 48)\n",
    "obs_frac_nonhom"
   ]
  },
  {
   "cell_type": "code",
   "execution_count": null,
   "metadata": {},
   "outputs": [],
   "source": [
    "# Berkeley undergrad gender breakdown source: \n",
    "# https://opa.berkeley.edu/campus-data/uc-berkeley-quick-facts\n",
    "# (based on Fall 2022 undergraduate enrollment)\n",
    "prop_male = 14183 / (14183 + 17808)\n",
    "prop_female = 1 - prop_male\n",
    "\n",
    "rand_expected_mf = 2 * prop_male * prop_female\n",
    "rand_expected_mf"
   ]
  },
  {
   "cell_type": "code",
   "execution_count": null,
   "metadata": {},
   "outputs": [],
   "source": [
    "permuted_alter_gender = survey.select('alter1_gender').sample(num_rows) # NB: num_rows is the number of rows in our dataset\n",
    "permuted_dyads = Table().with_columns(\n",
    "    'respondent_gender', survey.column('respondent_gender'),\n",
    "    'alter1_gender', permuted_alter_gender.column(0))\n",
    "permuted_dyads"
   ]
  },
  {
   "cell_type": "markdown",
   "metadata": {},
   "source": [
    "Let's write a function to help calculate the fraction of dyads that goes from male to female or from female to male."
   ]
  },
  {
   "cell_type": "code",
   "execution_count": null,
   "metadata": {},
   "outputs": [],
   "source": [
    "def frac_mf_dyads(permuted_df):\n",
    "    \"\"\"\n",
    "    Calculate the fraction of dyads that is male to female OR female to male\n",
    "    \"\"\"\n",
    "    counts_mf = permuted_dyads.group(['respondent_gender', 'alter1_gender']).where('respondent_gender', 'Male').where('alter1_gender', 'Female')\n",
    "    mf = counts_mf.column('count').item(0)\n",
    "    counts_fm = permuted_dyads.group(['respondent_gender', 'alter1_gender']).where('respondent_gender', 'Female').where('alter1_gender', 'Male')\n",
    "    fm = counts_fm.column('count').item(0)\n",
    "    \n",
    "    return((mf + fm)/permuted_df.num_rows)\n",
    "\n",
    "#permuted_frac_mf = permuted_dyads.where()\n",
    "frac_mf_dyads(permuted_dyads)"
   ]
  },
  {
   "cell_type": "markdown",
   "metadata": {},
   "source": [
    "Now take many resamples and calculate the fraction of cross-gender edges for each one"
   ]
  },
  {
   "cell_type": "code",
   "execution_count": null,
   "metadata": {},
   "outputs": [],
   "source": [
    "nonhom_fracs = make_array()\n",
    "\n",
    "for _ in np.arange(10000):\n",
    "    permuted_alter_gender = survey.select('alter1_gender').sample(num_rows) # NB: num_rows is the number of rows in our dataset\n",
    "    permuted_dyads = Table().with_columns(\n",
    "        'respondent_gender', survey.column('respondent_gender'),\n",
    "        'alter1_gender', permuted_alter_gender.column(0))\n",
    "    nonhom_fracs = np.append(nonhom_fracs, frac_mf_dyads(permuted_dyads))\n",
    "null_fracs = Table().with_column('frac_dyads_nonhom', nonhom_fracs)"
   ]
  },
  {
   "cell_type": "markdown",
   "metadata": {},
   "source": [
    "Let's add a plot showing where our observed value is, so that we can easily compare the observed value to the null distribution."
   ]
  },
  {
   "cell_type": "code",
   "execution_count": null,
   "metadata": {},
   "outputs": [],
   "source": [
    "null_fracs.hist('frac_dyads_nonhom')\n",
    "#plt.scatter(obs_frac_nonhom,0,c='red',s=80);\n",
    "plt.axvline(x=obs_frac_nonhom,c='red',linewidth=2);"
   ]
  },
  {
   "cell_type": "markdown",
   "metadata": {},
   "source": [
    "## Lab 2 (the part you will turn in): Homophily and personal networks"
   ]
  },
  {
   "cell_type": "markdown",
   "metadata": {},
   "source": [
    "###  Converting from wide to long\n",
    "\n",
    "So far, we have only looked at the relationship between the survey respondents and the first alter that they mentioned. However, we designed our survey so that respondents could tell us about up to five alters. In order to look at all of the alters respondents reported about, we're going to have to manipulate the dataset a bit more extensively. This manipulation is a little bit tricky, but we're going to go through how it can be done step by step.\n",
    "\n",
    "First, let's take a look at the first few rows of the dataset again to remind ourselves of how it is structured:"
   ]
  },
  {
   "cell_type": "code",
   "execution_count": null,
   "metadata": {},
   "outputs": [],
   "source": [
    "survey.show(6)"
   ]
  },
  {
   "cell_type": "markdown",
   "metadata": {},
   "source": [
    "The dataset is in *wide* format: all of the information reported by a respondent is stored in a single row:\n",
    "\n",
    "[respondent 1 info] ... [info about respondent 1's first alter] ... [info about respondent 1's second alter] ...   \n",
    "[respondent 2 info] ... [info about respondent 2's first alter] ... [info about respondent 2's second alter] ...   \n",
    "...\n",
    "\n",
    "Our goal is to reshape the dataset so that the information is in *long* format instead:\n",
    "\n",
    "[respondent 1 info] [info about respondent 1's first alter]  \n",
    "[respondent 1 info] [info about respondent 1's second alter]  \n",
    "[respondent 1 info] [info about respondent 1's third alter]  \n",
    "[respondent 1 info] [info about respondent 1's fourth alter]  \n",
    "[respondent 1 info] [info about respondent 1's fifth alter]  \n",
    "[respondent 2 info] [info about respondent 2's first alter]  \n",
    "[respondent 2 info] [info about respondent 2's second alter]  \n",
    "..."
   ]
  },
  {
   "cell_type": "markdown",
   "metadata": {},
   "source": [
    "We're going to start by creating an id variable for our survey responses. \n",
    "\n",
    "Always remember to double-check the results of your operations."
   ]
  },
  {
   "cell_type": "code",
   "execution_count": null,
   "metadata": {},
   "outputs": [],
   "source": [
    "## create a respondent id variable\n",
    "survey['respondent_id'] = range(1, survey.num_rows + 1) # using [] is a short-hand approach for .with_column function"
   ]
  },
  {
   "cell_type": "code",
   "execution_count": null,
   "metadata": {},
   "outputs": [],
   "source": [
    "survey.show(6)"
   ]
  },
  {
   "cell_type": "markdown",
   "metadata": {},
   "source": [
    "In order to convert the alter information from wide to long format, we're going to use two functions that have been written for you below.\n",
    "\n",
    "Let's look at the function below and try to understand how it works.\n",
    "\n",
    "PS The portion highlighted in red is called a docstring. It describes what the function does and gives examples. The code following \">>>\" is fully executable and the following line is what that function call should return."
   ]
  },
  {
   "cell_type": "code",
   "execution_count": null,
   "metadata": {},
   "outputs": [],
   "source": [
    "def repeat_single_col(data, var_name, times=5):\n",
    "    \"\"\"Repeats a single column multiple times.\n",
    "    \n",
    "    Parameters\n",
    "    ----------\n",
    "    data : Table\n",
    "        The data table containing the column to be repeated.\n",
    "    var_name : str\n",
    "        Text that contains the name of the column to repeat.\n",
    "    times : int\n",
    "        The number of times column is to be repeated.\n",
    "    \n",
    "    Returns\n",
    "    -------\n",
    "    np.array\n",
    "        A single array with the contents of the column repeated five times.\n",
    "    \n",
    "    Examples\n",
    "    --------\n",
    "    >>> repeat_single_col(Table().with_columns(['respondent_age', [10]]), 'respondent_age')\n",
    "    \n",
    "    array([10, 10, 10, 10, 10])\n",
    "    \"\"\"\n",
    "    new_col = np.tile(data.column(var_name), times)\n",
    "    return new_col"
   ]
  },
  {
   "cell_type": "markdown",
   "metadata": {},
   "source": [
    "The key to understanding repeat_single_col is the `np.tile` function. Look that function up and read its help page."
   ]
  },
  {
   "cell_type": "markdown",
   "metadata": {},
   "source": [
    "**Practice** Use `np.tile` to create an array that contains [1,3,5,7,1,3,5,7,1,3,5,7,1,3,5,7]."
   ]
  },
  {
   "cell_type": "code",
   "execution_count": null,
   "metadata": {},
   "outputs": [],
   "source": [
    "#np.tile? # You can remove the # sign and see the 'help' documentation for np.tile\n",
    "practice = [1, 3, 5, 7]\n",
    "practice_array = np.tile(practice, 4)\n",
    "practice_array"
   ]
  },
  {
   "cell_type": "markdown",
   "metadata": {},
   "source": [
    "**Practice** What is the difference between `np.tile` and `np.repeat`? Do they do the same thing? What happens if you pass the same arguments to `np.repeat` as to `np.tile`?\n",
    "\n",
    "[Hint: you can use the help page to figure out what np.repeat does.]"
   ]
  },
  {
   "cell_type": "code",
   "execution_count": null,
   "metadata": {},
   "outputs": [],
   "source": [
    "#np.repeat? # You can remove the # sign and see the 'help' documentation for np.repeat\n",
    "practice2 = [1, 3, 5, 7]\n",
    "practice2_array = np.repeat(practice2, 4)\n",
    "practice2_array"
   ]
  },
  {
   "cell_type": "markdown",
   "metadata": {},
   "source": [
    "Now look at the next function, and try to understand how it works."
   ]
  },
  {
   "cell_type": "code",
   "execution_count": null,
   "metadata": {},
   "outputs": [],
   "source": [
    "def wide_to_long(data, var_name, times=5):\n",
    "    \"\"\"Given columns of alter characteristics, stack them into one long column.\n",
    "    \n",
    "    Parameters\n",
    "    ----------\n",
    "    data : Table\n",
    "        The data table containing the alter characteristics\n",
    "    var_name : str\n",
    "        Text that contains the variable name; columns of the dataset should\n",
    "        match the pattern: alter[NUM]_[var_name]\n",
    "        For example, if var_name is 'age' then this function expects to find\n",
    "        columns in the survey dataset named \n",
    "        'alter1_age', 'alter2_age', 'alter3_age', 'alter4_age', and 'alter5_age'\n",
    "    times : int\n",
    "        The number of columns for each characteristic\n",
    "    \n",
    "    Returns\n",
    "    -------\n",
    "    np.array\n",
    "        A single array with the contents of all of the columns stacked on top of one another.\n",
    "    \n",
    "    Examples\n",
    "    --------\n",
    "    >>> wide_to_long(Table().with_columns(['alter1_age', [10, 15],\n",
    "                                           'alter2_age', [30, 35],\n",
    "                                           'alter3_age', [20, 15],\n",
    "                                           'alter4_age', [60, 70],\n",
    "                                           'alter5_age', [20, 25]]),\n",
    "                     'age')\n",
    "    \n",
    "    array([10, 15, 30, 35, 20, 15, 60, 70, 20, 25])\n",
    "    \"\"\"\n",
    "    new_col = np.concatenate([data.column('alter' + str(idx) + '_' + var_name) for idx in range(1,times+1)])\n",
    "    return new_col"
   ]
  },
  {
   "cell_type": "markdown",
   "metadata": {},
   "source": [
    "The key to understanding this second function is np.concatenate. Look up the help page for np.concatenate."
   ]
  },
  {
   "cell_type": "code",
   "execution_count": null,
   "metadata": {},
   "outputs": [],
   "source": [
    "np.concatenate?"
   ]
  },
  {
   "cell_type": "markdown",
   "metadata": {},
   "source": [
    "**Practice** Use `np.concatenate` to make a single array that has the contents of `column_one` and `column_two` concatenated together:"
   ]
  },
  {
   "cell_type": "code",
   "execution_count": null,
   "metadata": {},
   "outputs": [],
   "source": [
    "concat_table = Table().with_columns(['column_one', [1,3,5,7,9],\n",
    "                                    'column_two', [2,4,6,8,10]])\n",
    "concat_table"
   ]
  },
  {
   "cell_type": "code",
   "execution_count": null,
   "metadata": {},
   "outputs": [],
   "source": [
    "#to make a single array with the contents of column_one and column_two\n",
    "column_one = concat_table.column('column_one') \n",
    "column_two = concat_table.column('column_two')\n",
    "concat_array = np.concatenate((column_one, column_two))\n",
    "concat_array"
   ]
  },
  {
   "cell_type": "markdown",
   "metadata": {},
   "source": [
    "Now that we understand what `np.concatenate` does, let's run the wide_to_long() function on a simple table to see what it does."
   ]
  },
  {
   "cell_type": "code",
   "execution_count": null,
   "metadata": {},
   "outputs": [],
   "source": [
    "temp_table = Table().with_columns(['alter1_age', [10, 15],\n",
    "                                   'alter2_age', [30, 35],\n",
    "                                   'alter3_age', [20, 15],\n",
    "                                   'alter4_age', [60, 70],\n",
    "                                   'alter5_age', [20, 25]])\n",
    "wide_to_long(temp_table,'age')"
   ]
  },
  {
   "cell_type": "markdown",
   "metadata": {},
   "source": [
    "You can see that it links the head and end of columns.\n",
    "\n",
    "We'll take a first try at converting the alter data to long format together, and then you'll do a more complete job as an exercise.\n",
    "\n",
    "For our first step, we'll only keep the respondent's id number and the age of the alters each respondent reported about. Since there is space for 5 alters per respondent, we expect (number of respondents x 5)\n",
    "\n",
    "Let's construct the table."
   ]
  },
  {
   "cell_type": "code",
   "execution_count": null,
   "metadata": {},
   "outputs": [],
   "source": [
    "alter_first_try = Table().with_columns([\n",
    "    'respondent_id', repeat_single_col(survey, 'respondent_id'),\n",
    "    'alter_age', wide_to_long(survey, 'age')])\n",
    "alter_first_try"
   ]
  },
  {
   "cell_type": "markdown",
   "metadata": {},
   "source": [
    "You can see that we want to use `repeat_single_col` for the column that is a respondent characteristic and that we want to use `wide_to_long` for the column that is an alter characteristic.\n",
    "\n",
    "Let's check that the resulting Table, called `alter_first_try` makes sense.\n",
    "\n"
   ]
  },
  {
   "cell_type": "markdown",
   "metadata": {
    "deletable": false,
    "editable": false
   },
   "source": [
    "## Question 1: \n",
    "How many rows do you think alter_first_try should have? Check the number of rows."
   ]
  },
  {
   "cell_type": "code",
   "execution_count": null,
   "metadata": {
    "tags": []
   },
   "outputs": [],
   "source": [
    "q1 = ...\n",
    "q1"
   ]
  },
  {
   "cell_type": "code",
   "execution_count": null,
   "metadata": {
    "deletable": false,
    "editable": false
   },
   "outputs": [],
   "source": [
    "grader.check(\"q1\")"
   ]
  },
  {
   "cell_type": "markdown",
   "metadata": {},
   "source": [
    "The following statement allows you to double-check that each respondent appears five times in this dataset. If the cell does not output True, you have a problem."
   ]
  },
  {
   "cell_type": "code",
   "execution_count": null,
   "metadata": {},
   "outputs": [],
   "source": [
    "np.all(alter_first_try.group('respondent_id').column('count') == 5)"
   ]
  },
  {
   "cell_type": "markdown",
   "metadata": {
    "deletable": false,
    "editable": false
   },
   "source": [
    "## Question 1.5: Full Alters Table\n",
    "\n",
    "Now it's your turn! Using the example above as a pattern, create a long dataset that has\n",
    "\n",
    "* respondent id\n",
    "* respondent age\n",
    "* respondent class\n",
    "* respondent home\n",
    "* alter age\n",
    "* alter gender\n",
    "* alter class\n",
    "* alter home\n",
    "\n",
    "Don't forget to perform a couple of checks to be sure the resulting dataset makes sense (like we did above).\n",
    "\n",
    "Hint: you need to **repeat** the information for the respondent and **convert from wide to long** for the alters' information."
   ]
  },
  {
   "cell_type": "code",
   "execution_count": null,
   "metadata": {
    "tags": []
   },
   "outputs": [],
   "source": [
    "\n",
    "alter_data = Table().with_columns([\n",
    "    'respondent_id', repeat_single_col(survey, 'respondent_id'),\n",
    "    'respondent_age', ...,\n",
    "    'respondent_class', ...,\n",
    "    'respondent_home', ...,\n",
    "    'alter_age', wide_to_long(survey, 'age'),\n",
    "    'alter_gender', ...,\n",
    "    'alter_class', ...,\n",
    "    'alter_home', ...,])\n",
    "\n",
    "alter_data"
   ]
  },
  {
   "cell_type": "code",
   "execution_count": null,
   "metadata": {
    "deletable": false,
    "editable": false
   },
   "outputs": [],
   "source": [
    "grader.check(\"q1.5\")"
   ]
  },
  {
   "cell_type": "markdown",
   "metadata": {
    "deletable": false,
    "editable": false
   },
   "source": [
    "<!-- BEGIN QUESTION -->\n",
    "\n",
    "## Question 2: Ages of Berkeley Students' Confidants\n",
    "\n",
    "OK, now that we have created a long-form dataset, let's make use of it to learn about the people Berkeley students discuss important matters with."
   ]
  },
  {
   "cell_type": "markdown",
   "metadata": {
    "deletable": false,
    "editable": false
   },
   "source": [
    "Start by making a histogram of the confidants' ages. Please use the following bins: `np.arange(15, 70, 5)`"
   ]
  },
  {
   "cell_type": "code",
   "execution_count": null,
   "metadata": {
    "tags": []
   },
   "outputs": [],
   "source": []
  },
  {
   "cell_type": "markdown",
   "metadata": {
    "deletable": false,
    "editable": false
   },
   "source": [
    "<!-- END QUESTION -->\n",
    "\n",
    "<!-- BEGIN QUESTION -->\n",
    "\n",
    "## Question 3: Respondent's Ages\n",
    "Now make a histogram of the survey respondents' ages.\n",
    "\n",
    "Please take a look at the `bins` argument of `.hist()` if you haven't already and use it to make bins like `np.arange(15, 35, 1)`. You can try and see what happens if you remove this and plot with the line of code we used for alter's age. <BR>\n",
    "\n",
    "HINT: Make sure you use the `survey` table, not the `alter_data` table. If you're unsure of why, ask a student nearby or the GSI."
   ]
  },
  {
   "cell_type": "code",
   "execution_count": null,
   "metadata": {
    "tags": []
   },
   "outputs": [],
   "source": [
    "... # replace this line with code to make a histogram of respondent's ages"
   ]
  },
  {
   "cell_type": "markdown",
   "metadata": {
    "deletable": false,
    "editable": false
   },
   "source": [
    "<!-- END QUESTION -->\n",
    "\n",
    "<!-- BEGIN QUESTION -->\n",
    "\n",
    "## Question 4: Comapre histograms\n",
    "Compare the two histograms. What does this tell you about homophily among confidants?"
   ]
  },
  {
   "cell_type": "markdown",
   "metadata": {},
   "source": [
    "_Type your answer here, replacing this text._"
   ]
  },
  {
   "cell_type": "markdown",
   "metadata": {
    "deletable": false,
    "editable": false
   },
   "source": [
    "<!-- END QUESTION -->\n",
    "\n",
    "<!-- BEGIN QUESTION -->\n",
    "\n",
    "**Practice:** Now you can make a scatter plot comparing the ages of survey respondents and the ages of the alters."
   ]
  },
  {
   "cell_type": "code",
   "execution_count": null,
   "metadata": {
    "deletable": false,
    "editable": false
   },
   "outputs": [],
   "source": [
    "alter_data.scatter(..., ...)"
   ]
  },
  {
   "cell_type": "markdown",
   "metadata": {
    "deletable": false,
    "editable": false
   },
   "source": [
    "## Question 5\n",
    "What does this scatter plot tell you about homophily among confidants?"
   ]
  },
  {
   "cell_type": "markdown",
   "metadata": {},
   "source": [
    "_Type your answer here, replacing this text._"
   ]
  },
  {
   "cell_type": "markdown",
   "metadata": {
    "deletable": false,
    "editable": false
   },
   "source": [
    "<!-- END QUESTION -->\n",
    "\n",
    "We are able to get a lot of descriptive information from these two datasets. Here is a practice example."
   ]
  },
  {
   "cell_type": "markdown",
   "metadata": {},
   "source": [
    "**Practice** What's the proportion of alters from Bay Area of all the alters?"
   ]
  },
  {
   "cell_type": "code",
   "execution_count": null,
   "metadata": {},
   "outputs": [],
   "source": [
    "# First, you create a variable, alter_bay which has value False if the alter is not from the Bay Area, \n",
    "# and True otherwise.\n",
    "alter_bay = alter_data.column(...) == 'Bay Area' # two equal marks == constructs a comparison, the result is True (equal to) or False (not equalt to)"
   ]
  },
  {
   "cell_type": "code",
   "execution_count": null,
   "metadata": {},
   "outputs": [],
   "source": [
    "# Secondly, you calculate the proportion of the rows which has the alter_bay variable True.\n",
    "alter_bay_proportion = ...\n",
    "alter_bay_proportion"
   ]
  },
  {
   "cell_type": "markdown",
   "metadata": {},
   "source": [
    "### Class year of Berkeley students' confidants"
   ]
  },
  {
   "cell_type": "markdown",
   "metadata": {},
   "source": [
    "In this section, we will start to explore the relationship between respondents' class years and their alters' class years. Our approach will be to walk through one example -- the alters reported by sophomores -- in detail. Then, we will write a function to easily allow us to repeat our analysis for sophomores, juniors, and seniors."
   ]
  },
  {
   "cell_type": "markdown",
   "metadata": {},
   "source": [
    "First, let us look at the distribution of class year among all of the confidants reported. First use `group` to make a simple table with the counts of alters by class year."
   ]
  },
  {
   "cell_type": "code",
   "execution_count": null,
   "metadata": {},
   "outputs": [],
   "source": [
    "alter_data.group('alter_class')"
   ]
  },
  {
   "cell_type": "markdown",
   "metadata": {},
   "source": [
    "**Practice** Now make a bar plot that shows those counts graphically."
   ]
  },
  {
   "cell_type": "code",
   "execution_count": null,
   "metadata": {},
   "outputs": [],
   "source": [
    "# First we sort this table by counts of each group\n",
    "alter_data.group('alter_class').sort('count', descending=True)"
   ]
  },
  {
   "cell_type": "code",
   "execution_count": null,
   "metadata": {},
   "outputs": [],
   "source": [
    "# By adding the function of plotting: .barh(the variable you want to plot), we can create a bar plot.\n",
    "alter_data.group('alter_class').sort('count', descending=True).barh('alter_class')"
   ]
  },
  {
   "cell_type": "markdown",
   "metadata": {},
   "source": [
    "**Practice** Make another bar plot that shows the class years of survey respondents."
   ]
  },
  {
   "cell_type": "code",
   "execution_count": null,
   "metadata": {},
   "outputs": [],
   "source": [
    "..."
   ]
  },
  {
   "cell_type": "markdown",
   "metadata": {
    "deletable": false,
    "editable": false
   },
   "source": [
    "Now that we have a sense of what all respondents and all of the alters look like, we can dig into the alters of a particulr class group.\n",
    "\n",
    "## Question 6: \n",
    "Create a new table that only has alters reported by respondents who are sophomores using `where` and `are.equal_to`."
   ]
  },
  {
   "cell_type": "code",
   "execution_count": null,
   "metadata": {
    "tags": []
   },
   "outputs": [],
   "source": [
    "alters_of_sophomores = ...\n",
    "q6 = alters_of_sophomores.num_rows\n",
    "q6"
   ]
  },
  {
   "cell_type": "code",
   "execution_count": null,
   "metadata": {
    "deletable": false,
    "editable": false
   },
   "outputs": [],
   "source": [
    "grader.check(\"q6\")"
   ]
  },
  {
   "cell_type": "markdown",
   "metadata": {},
   "source": [
    "Make a plot that shows the class years reported by alters of sophomores using .barh()."
   ]
  },
  {
   "cell_type": "code",
   "execution_count": null,
   "metadata": {},
   "outputs": [],
   "source": [
    "..."
   ]
  },
  {
   "cell_type": "markdown",
   "metadata": {},
   "source": [
    "**Practice** Make a function called `plot_alter_class` that makes a plot of the class years of alters reported by respondents in a particular class. Your function should take as its arguments\n",
    "\n",
    "* `data` - the alter dataset\n",
    "* `class_year` - the class year of respondents to focus on\n",
    "    \n",
    "For example, running\n",
    "\n",
    "    plot_alter_class(alter_data, 'Sophomore')\n",
    "\n",
    "should produce the plot you just made above."
   ]
  },
  {
   "cell_type": "code",
   "execution_count": null,
   "metadata": {},
   "outputs": [],
   "source": [
    "def plot_alter_class(data, class_year):\n",
    "    to_plot = data.where(...) #create the dataset for plotting\n",
    "    to_plot.group(...).barh(...)"
   ]
  },
  {
   "cell_type": "markdown",
   "metadata": {},
   "source": [
    "**Practice** Use your function to produce plots of the class years of the alters of freshmen, sophomores, juniors, and seniors."
   ]
  },
  {
   "cell_type": "code",
   "execution_count": null,
   "metadata": {},
   "outputs": [],
   "source": [
    "# freshmen\n",
    "plot_alter_class(alter_data, 'Freshman')"
   ]
  },
  {
   "cell_type": "code",
   "execution_count": null,
   "metadata": {},
   "outputs": [],
   "source": [
    "# sophomores\n",
    "plot_alter_class(alter_data, 'Sophomore')"
   ]
  },
  {
   "cell_type": "code",
   "execution_count": null,
   "metadata": {},
   "outputs": [],
   "source": [
    "# juniors\n",
    "plot_alter_class(alter_data, 'Junior')"
   ]
  },
  {
   "cell_type": "code",
   "execution_count": null,
   "metadata": {},
   "outputs": [],
   "source": [
    "# seniors\n",
    "plot_alter_class(alter_data, 'Senior')"
   ]
  },
  {
   "cell_type": "markdown",
   "metadata": {
    "deletable": false,
    "editable": false
   },
   "source": [
    "<!-- BEGIN QUESTION -->\n",
    "\n",
    "## Question 7\n",
    "Do you see evidence of homophily with respect to class year?"
   ]
  },
  {
   "cell_type": "markdown",
   "metadata": {},
   "source": [
    "_Type your answer here, replacing this text._"
   ]
  },
  {
   "cell_type": "markdown",
   "metadata": {
    "deletable": false,
    "editable": false
   },
   "source": [
    "<!-- END QUESTION -->\n",
    "\n"
   ]
  },
  {
   "cell_type": "code",
   "execution_count": null,
   "metadata": {},
   "outputs": [],
   "source": []
  },
  {
   "cell_type": "markdown",
   "metadata": {
    "deletable": false,
    "editable": false
   },
   "source": [
    "---\n",
    "\n",
    "To double-check your work, the cell below will rerun all of the autograder tests."
   ]
  },
  {
   "cell_type": "code",
   "execution_count": null,
   "metadata": {
    "deletable": false,
    "editable": false
   },
   "outputs": [],
   "source": [
    "grader.check_all()"
   ]
  },
  {
   "cell_type": "markdown",
   "metadata": {
    "deletable": false,
    "editable": false
   },
   "source": [
    "## Submission\n",
    "\n",
    "Make sure you have run all cells in your notebook in order before running the cell below, so that all images/graphs appear in the output. The cell below will generate a zip file for you to submit. **Please save before exporting!**\n",
    "\n",
    "Please upload the .zip file to Gradescope."
   ]
  },
  {
   "cell_type": "code",
   "execution_count": null,
   "metadata": {
    "deletable": false,
    "editable": false
   },
   "outputs": [],
   "source": [
    "# Save your notebook first, then run this cell to export your submission.\n",
    "grader.export(run_tests=True)"
   ]
  },
  {
   "cell_type": "markdown",
   "metadata": {},
   "source": [
    " "
   ]
  }
 ],
 "metadata": {
  "kernelspec": {
   "display_name": "Python 3 (ipykernel)",
   "language": "python",
   "name": "python3"
  },
  "language_info": {
   "codemirror_mode": {
    "name": "ipython",
    "version": 3
   },
   "file_extension": ".py",
   "mimetype": "text/x-python",
   "name": "python",
   "nbconvert_exporter": "python",
   "pygments_lexer": "ipython3",
   "version": "3.9.12"
  },
  "otter": {
   "OK_FORMAT": true,
   "tests": {
    "q1": {
     "name": "q1",
     "points": 1,
     "suites": [
      {
       "cases": [
        {
         "code": ">>> np.isclose(q1, 1060)\nTrue",
         "hidden": false,
         "locked": false
        }
       ],
       "scored": true,
       "setup": "",
       "teardown": "",
       "type": "doctest"
      }
     ]
    },
    "q1.5": {
     "name": "q1.5",
     "points": 1,
     "suites": [
      {
       "cases": [
        {
         "code": ">>> np.isclose(alter_data.num_rows, 1060)\nTrue",
         "hidden": false,
         "locked": false
        },
        {
         "code": ">>> np.isclose(alter_data.num_columns, 8)\nTrue",
         "hidden": false,
         "locked": false
        }
       ],
       "scored": true,
       "setup": "",
       "teardown": "",
       "type": "doctest"
      }
     ]
    },
    "q6": {
     "name": "q6",
     "points": 1,
     "suites": [
      {
       "cases": [
        {
         "code": ">>> np.isclose(q6, 105)\nTrue",
         "hidden": false,
         "locked": false
        }
       ],
       "scored": true,
       "setup": "",
       "teardown": "",
       "type": "doctest"
      }
     ]
    }
   }
  }
 },
 "nbformat": 4,
 "nbformat_minor": 2
}

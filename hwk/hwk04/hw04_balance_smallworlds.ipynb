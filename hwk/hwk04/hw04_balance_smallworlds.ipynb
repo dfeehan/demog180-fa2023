{
 "cells": [
  {
   "cell_type": "code",
   "execution_count": null,
   "metadata": {
    "deletable": false,
    "editable": false
   },
   "outputs": [],
   "source": [
    "# Initialize Otter\n",
    "import otter\n",
    "grader = otter.Notebook(\"hw04_balance_smallworlds.ipynb\")"
   ]
  },
  {
   "cell_type": "markdown",
   "metadata": {},
   "source": [
    "# Homework 4: Network Balance and Small Worlds"
   ]
  },
  {
   "cell_type": "code",
   "execution_count": null,
   "metadata": {},
   "outputs": [],
   "source": [
    "!pip install --upgrade networkx"
   ]
  },
  {
   "cell_type": "code",
   "execution_count": null,
   "metadata": {},
   "outputs": [],
   "source": [
    "from IPython.core.display import HTML\n",
    "from datascience import *\n",
    "\n",
    "import matplotlib\n",
    "matplotlib.use('Agg')\n",
    "%matplotlib inline\n",
    "import matplotlib.pyplot as plt\n",
    "import numpy as np\n",
    "import os\n",
    "plt.style.use('fivethirtyeight')\n",
    "\n",
    "import networkx as nx\n",
    "from networkx.algorithms import bipartite"
   ]
  },
  {
   "cell_type": "markdown",
   "metadata": {},
   "source": [
    "# Positive and Negative Relationships"
   ]
  },
  {
   "cell_type": "markdown",
   "metadata": {},
   "source": [
    "Consider the network shown in Figure below: there is an edge between each pair of nodes, with five of the edges corresponding to positive relationships, and the other five of the edges corresponding to negative relationships.\n",
    "<img src=\"fig_5_18.png\" width=\"240\" height=\"160\" align=\"center\"/>\n",
    "<br>\n",
    "Each edge in this network participates in three triangles: one formed by each of the additional nodes who is not already an endpoint of the edge. (For example, the A-B edge participates in a triangle on A, B, and C, a triangle on A, B, and D, and a\n",
    "triangle on A, B, and E. We can list triangles for the other edges in a similar way.) "
   ]
  },
  {
   "cell_type": "markdown",
   "metadata": {
    "deletable": false,
    "editable": false
   },
   "source": [
    "<!-- BEGIN QUESTION -->\n",
    "\n",
    "## Question 1:\n",
    "For each edge, how many of the triangles it participates in are balanced, and how many are unbalanced? Please list in the following box.\n",
    "\n",
    "(Notice that because of the symmetry of the network, the answer will be the same for each positive edge, and also for each negative edge; so it is enough to consider this for one of the positive edges and one of the negative edges.)"
   ]
  },
  {
   "cell_type": "markdown",
   "metadata": {},
   "source": [
    "**Example:**\n",
    "1. Edge (AB) participates in three triangles: (AB,BC,AC) is unbalanced, (AB,AD,BD) is unbalanced, (AB,BE,AE) is balanced <br>\n",
    "2. ... "
   ]
  },
  {
   "cell_type": "markdown",
   "metadata": {
    "deletable": false,
    "editable": false
   },
   "source": [
    "<!-- END QUESTION -->\n",
    "\n",
    "<!-- BEGIN QUESTION -->\n",
    "\n",
    "## Question 2:\n",
    "In the social network depicted in the following figure, with each edge labeled as either a strong or weak tie, which nodes satisfy the Strong Triadic Closure Property, and which do not? Provide an explanation for your answer.\n",
    "\n",
    "<img src=\"fig_3_22.png\" width=\"360\" height=\"240\" align=\"center\"/>\n",
    "<br>"
   ]
  },
  {
   "cell_type": "markdown",
   "metadata": {},
   "source": [
    "_Type your answer here, replacing this text._"
   ]
  },
  {
   "cell_type": "markdown",
   "metadata": {
    "deletable": false,
    "editable": false
   },
   "source": [
    "<!-- END QUESTION -->\n",
    "\n",
    "# Small worlds"
   ]
  },
  {
   "cell_type": "markdown",
   "metadata": {},
   "source": [
    "In this homework assignment, we're going to explore the concept of *small worlds*. Small worlds have long been studied by social networks researchers, and they have also been discussed in popular culture. As a reminder, the rough idea is that social networks can typically be expected to have two characteristics:\n",
    "\n",
    "* a high level of clustering\n",
    "* a short average path length\n",
    "\n",
    "A high level of clustering is consistent with the idea of triadic closure. And a short average path length is supposed to capture situations we often seem to encounter in our day to day lives: e.g., two strangers find that they have an unexpected acquaintance in common and exclaim \"it's a small world!\" (see the Milgram article below).\n",
    "\n",
    "In case you want to read some of the original small world research papers, you can check out some of the papers we talked about in lecture. Here is an article describing an early empirical study by Milgram:\n",
    "\n",
    "* [Milgram 1967](http://measure.igpp.ucla.edu/GK12-SEE-LA/Lesson_Files_09/Tina_Wey/TW_social_networks_Milgram_1967_small_world_problem.pdf)\n",
    "\n",
    "And here are a couple of more recent studies in which researchers analyzed mathematical models that can produce networks with small-world properties:\n",
    "\n",
    "* [Watts & Strogatz 1998](http://www.nature.com/nature/journal/v393/n6684/abs/393440a0.html)\n",
    "* [Watts 1999](http://www.jstor.org/stable/10.1086/210318?seq=1#page_scan_tab_contents)"
   ]
  },
  {
   "cell_type": "markdown",
   "metadata": {},
   "source": [
    "First, we'll start by looking at this sample network: "
   ]
  },
  {
   "cell_type": "code",
   "execution_count": null,
   "metadata": {},
   "outputs": [],
   "source": [
    "test_net = nx.Graph([(1,2), (1,3), (2,3), (4,5), (4,6), (4,3), (5,6), (3,5), (2,6), (7,8), (8,9)])\n",
    "nx.draw_circular(test_net, with_labels=True)"
   ]
  },
  {
   "cell_type": "markdown",
   "metadata": {
    "deletable": false,
    "editable": false
   },
   "source": [
    "<!-- BEGIN QUESTION -->\n",
    "\n",
    "# Question 3\n",
    "\n",
    "Edit the table below in a new cell and fill it with the shortest distance between each pair of vertices. \n",
    "Enter INF if the nodes are disconnected. "
   ]
  },
  {
   "cell_type": "markdown",
   "metadata": {},
   "source": [
    "\n",
    "| &nbsp;  | node 1 | node 2 | node 3 | node 4 | node 5 | node 6 | node 7 | node 8 | node 9 |\n",
    "|  ------ | -----  | ------ | ------ | ------ | ------ | ------ | ------ | ------ | ------ |\n",
    "|  node 1 |   -    |  (?)   |   (?)  |    (?) |    (?) |    (?) |    (?) |    (?) |    (?) |\n",
    "|  node 2 |   -    |  -     |   (?)  |    (?) |    (?) |    (?) |    (?) |    (?) |    (?) |\n",
    "|  node 3 |   -    |  -     |   -    |    (?) |    (?) |    (?) |    (?) |    (?) |    (?) |\n",
    "|  node 4 |   -    |  -     |   -    |   -    |    (?) |    (?) |    (?) |    (?) |    (?) |\n",
    "|  node 5 |   -    |  -     |   -    |   -    |   -    |    (?) |    (?) |    (?) |    (?) |\n",
    "|  node 6 |   -    |  -     |   -    |   -    |   -    |   -    |    (?) |    (?) |    (?) |\n",
    "|  node 7 |   -    |  -     |   -    |   -    |   -    |   -    |   -    |    (?) |    (?) |\n",
    "|  node 8 |   -    |  -     |   -    |   -    |   -    |   -    |   -    |   -    |    (?) |\n",
    "|  node 9 |   -    |  -     |   -    |   -    |   -    |   -    |   -    |   -    |   -    |  \n",
    "  "
   ]
  },
  {
   "cell_type": "markdown",
   "metadata": {
    "deletable": false,
    "editable": false
   },
   "source": [
    "<!-- END QUESTION -->\n",
    "\n",
    "<!-- BEGIN QUESTION -->\n",
    "\n",
    "# Question 4 \n",
    "\n",
    "Now manually calculate the average shortest path length **for each** of the connected components in the network.\n",
    "  "
   ]
  },
  {
   "cell_type": "markdown",
   "metadata": {},
   "source": [
    "_Type your answer here, replacing this text._"
   ]
  },
  {
   "cell_type": "markdown",
   "metadata": {
    "deletable": false,
    "editable": false
   },
   "source": [
    "<!-- END QUESTION -->\n",
    "\n",
    "# Question 5 \n",
    "Now verify the average shortest path length for each of the components in the graph, using the average_shortest_path_length function of the networkx library. For this purpose, one has to iterate over the connected components of the test_net graph.  \n",
    "  "
   ]
  },
  {
   "cell_type": "code",
   "execution_count": null,
   "metadata": {
    "tags": []
   },
   "outputs": [],
   "source": [
    "aspl_vec = []\n",
    "components = [test_net.subgraph(c) for c in nx.connected_components(test_net)]\n",
    "for i, each in enumerate(components): \n",
    "    aspl = ...\n",
    "    aspl_vec.append(aspl)\n",
    "    print (\"Component\", i, \": Average Shortest Path Length =\", aspl )"
   ]
  },
  {
   "cell_type": "code",
   "execution_count": null,
   "metadata": {
    "deletable": false,
    "editable": false
   },
   "outputs": [],
   "source": [
    "grader.check(\"q5\")"
   ]
  },
  {
   "cell_type": "markdown",
   "metadata": {
    "deletable": false,
    "editable": false
   },
   "source": [
    "<!-- BEGIN QUESTION -->\n",
    "\n",
    "# Question 6:\n",
    "\n",
    "True or False: A small world network usually has one giant connected component. Justify and explain your answer."
   ]
  },
  {
   "cell_type": "markdown",
   "metadata": {},
   "source": [
    "_Type your answer here, replacing this text._"
   ]
  },
  {
   "cell_type": "markdown",
   "metadata": {
    "deletable": false,
    "editable": false
   },
   "source": [
    "<!-- END QUESTION -->\n",
    "\n"
   ]
  },
  {
   "cell_type": "markdown",
   "metadata": {
    "deletable": false,
    "editable": false
   },
   "source": [
    "---\n",
    "\n",
    "To double-check your work, the cell below will rerun all of the autograder tests."
   ]
  },
  {
   "cell_type": "code",
   "execution_count": null,
   "metadata": {
    "deletable": false,
    "editable": false
   },
   "outputs": [],
   "source": [
    "grader.check_all()"
   ]
  },
  {
   "cell_type": "markdown",
   "metadata": {
    "deletable": false,
    "editable": false
   },
   "source": [
    "## Submission\n",
    "\n",
    "Make sure you have run all cells in your notebook in order before running the cell below, so that all images/graphs appear in the output. The cell below will generate a zip file for you to submit. **Please save before exporting!**\n",
    "\n",
    "Please upload the .zip file to Gradescope by Thursday, September 28th at 11:59pm."
   ]
  },
  {
   "cell_type": "code",
   "execution_count": null,
   "metadata": {
    "deletable": false,
    "editable": false
   },
   "outputs": [],
   "source": [
    "# Save your notebook first, then run this cell to export your submission.\n",
    "grader.export(run_tests=True)"
   ]
  },
  {
   "cell_type": "markdown",
   "metadata": {},
   "source": [
    " "
   ]
  }
 ],
 "metadata": {
  "anaconda-cloud": {},
  "kernelspec": {
   "display_name": "Python 3 (ipykernel)",
   "language": "python",
   "name": "python3"
  },
  "language_info": {
   "codemirror_mode": {
    "name": "ipython",
    "version": 3
   },
   "file_extension": ".py",
   "mimetype": "text/x-python",
   "name": "python",
   "nbconvert_exporter": "python",
   "pygments_lexer": "ipython3",
   "version": "3.9.12"
  },
  "otter": {
   "OK_FORMAT": true,
   "tests": {
    "q5": {
     "name": "q5",
     "points": 4,
     "suites": [
      {
       "cases": [
        {
         "code": ">>> (len(aspl_vec) == 2) & (np.all([(x > 1) & (x < 2) for x in aspl_vec]))\nTrue",
         "hidden": false,
         "locked": false
        }
       ],
       "scored": true,
       "setup": "",
       "teardown": "",
       "type": "doctest"
      }
     ]
    }
   }
  }
 },
 "nbformat": 4,
 "nbformat_minor": 1
}

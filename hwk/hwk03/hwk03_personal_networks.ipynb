{
 "cells": [
  {
   "cell_type": "code",
   "execution_count": null,
   "metadata": {
    "deletable": false,
    "editable": false
   },
   "outputs": [],
   "source": [
    "# Initialize Otter\n",
    "import otter\n",
    "grader = otter.Notebook(\"hwk03_personal_networks.ipynb\")"
   ]
  },
  {
   "cell_type": "code",
   "execution_count": null,
   "metadata": {},
   "outputs": [],
   "source": [
    "!pip install --upgrade networkx\n",
    "!pip install --upgrade pandoc"
   ]
  },
  {
   "cell_type": "code",
   "execution_count": null,
   "metadata": {},
   "outputs": [],
   "source": [
    "from IPython.core.display import HTML\n",
    "from datascience import *\n",
    "\n",
    "import matplotlib\n",
    "matplotlib.use('Agg')\n",
    "%matplotlib inline\n",
    "import matplotlib.pyplot as plt\n",
    "import numpy as np\n",
    "import pandas as pd\n",
    "import networkx as nx\n",
    "plt.style.use('fivethirtyeight')\n",
    "import warnings\n",
    "warnings.simplefilter('ignore', FutureWarning)"
   ]
  },
  {
   "cell_type": "markdown",
   "metadata": {},
   "source": [
    "# Homework 3 "
   ]
  },
  {
   "cell_type": "markdown",
   "metadata": {},
   "source": [
    "### Personal network surveys"
   ]
  },
  {
   "cell_type": "markdown",
   "metadata": {},
   "source": [
    "In this assignment, we will analyze some data from the [General Social Survey](http://gss.norc.org/) (GSS).\n",
    "The GSS is the survey that was the basis of the debate over whether or not Americans are becoming more socially isolated, which we discussed in class."
   ]
  },
  {
   "cell_type": "code",
   "execution_count": null,
   "metadata": {},
   "outputs": [],
   "source": [
    "import os\n",
    "os.getcwd()"
   ]
  },
  {
   "cell_type": "markdown",
   "metadata": {},
   "source": [
    "The file `GSS.csv` has an extract from the GSS which we will analyze today.\n",
    "\n",
    "Here is the [codebook](http://gss.norc.org/documents/codebook/GSS_Codebook.pdf) for the entire GSS. Of course, the GSS is huge, so you will have to search through for the variable names included in this extract. (Don't do this by hand -- use your pdf viewer's search function.)"
   ]
  },
  {
   "cell_type": "markdown",
   "metadata": {},
   "source": [
    "Read the GSS extract into a Table called `gss_data`."
   ]
  },
  {
   "cell_type": "code",
   "execution_count": null,
   "metadata": {},
   "outputs": [],
   "source": [
    "gss_data = Table.read_table('GSS.csv')"
   ]
  },
  {
   "cell_type": "markdown",
   "metadata": {
    "deletable": false,
    "editable": false
   },
   "source": [
    "## Question 1:\n",
    "How many rows and how many columns does `gss_data` have? Print out the first several rows to take a look at its contents."
   ]
  },
  {
   "cell_type": "code",
   "execution_count": null,
   "metadata": {
    "tags": []
   },
   "outputs": [],
   "source": [
    "gss_number_of_rows = ...\n",
    "gss_number_of_cols = ...\n",
    "\n",
    "print(\"num rows: \", gss_number_of_rows)\n",
    "print(\"num cols: \", gss_number_of_cols)"
   ]
  },
  {
   "cell_type": "code",
   "execution_count": null,
   "metadata": {
    "deletable": false,
    "editable": false
   },
   "outputs": [],
   "source": [
    "grader.check(\"q1\")"
   ]
  },
  {
   "cell_type": "code",
   "execution_count": null,
   "metadata": {},
   "outputs": [],
   "source": [
    "gss_data"
   ]
  },
  {
   "cell_type": "markdown",
   "metadata": {
    "deletable": false,
    "editable": false
   },
   "source": [
    "## Question 2:\n",
    "What range of years is covered by this dataset? Answer this by finding the largest and smallest year. \n",
    "\n",
    "_Hint: You can use the functions max and min that we introduced back in Lab 0_"
   ]
  },
  {
   "cell_type": "code",
   "execution_count": null,
   "metadata": {
    "tags": []
   },
   "outputs": [],
   "source": [
    "largest_year = ...\n",
    "smallest_year = ...\n",
    "\n",
    "print(\"earliest year: \", smallest_year)\n",
    "print(\"latest year: \", largest_year)"
   ]
  },
  {
   "cell_type": "code",
   "execution_count": null,
   "metadata": {
    "deletable": false,
    "editable": false
   },
   "outputs": [],
   "source": [
    "grader.check(\"q2\")"
   ]
  },
  {
   "cell_type": "markdown",
   "metadata": {},
   "source": [
    "We are interested in the years when the 'important matters' question was asked of survey respondents. It turns out that this question was only asked for 1985 and 2004. In order to continue with our analysis, we will pick out only the rows of the dataset that correspond to the years we are interested in."
   ]
  },
  {
   "cell_type": "markdown",
   "metadata": {
    "deletable": false,
    "editable": false
   },
   "source": [
    "## Question 3:\n",
    "Make two new datasets: `gss_1985` and `gss_2004` which have only the responses from 1985 and from 2004."
   ]
  },
  {
   "cell_type": "code",
   "execution_count": null,
   "metadata": {
    "tags": []
   },
   "outputs": [],
   "source": [
    "gss_1985 = ...\n",
    "gss_2004 = ..."
   ]
  },
  {
   "cell_type": "code",
   "execution_count": null,
   "metadata": {
    "deletable": false,
    "editable": false
   },
   "outputs": [],
   "source": [
    "grader.check(\"q3\")"
   ]
  },
  {
   "cell_type": "markdown",
   "metadata": {
    "deletable": false,
    "editable": false
   },
   "source": [
    "## Question 4: \n",
    "How many responses are there from 1985, and how many from 2004? "
   ]
  },
  {
   "cell_type": "code",
   "execution_count": null,
   "metadata": {
    "tags": []
   },
   "outputs": [],
   "source": [
    "responses_from_1985 = ...\n",
    "responses_from_2004 = ..."
   ]
  },
  {
   "cell_type": "code",
   "execution_count": null,
   "metadata": {
    "deletable": false,
    "editable": false
   },
   "outputs": [],
   "source": [
    "grader.check(\"q4\")"
   ]
  },
  {
   "cell_type": "markdown",
   "metadata": {
    "deletable": false,
    "editable": false
   },
   "source": [
    "## Question 5:\n",
    "Make a table of the responses to the `numgiven` question for each year. This tables should show the possible options for `numgiven` and how often that response occurred."
   ]
  },
  {
   "cell_type": "code",
   "execution_count": null,
   "metadata": {
    "tags": []
   },
   "outputs": [],
   "source": [
    "gss_1985_numgiven = ...\n",
    "gss_1985_numgiven"
   ]
  },
  {
   "cell_type": "code",
   "execution_count": null,
   "metadata": {
    "tags": []
   },
   "outputs": [],
   "source": [
    "gss_2004_numgiven = ...\n",
    "gss_2004_numgiven"
   ]
  },
  {
   "cell_type": "code",
   "execution_count": null,
   "metadata": {
    "deletable": false,
    "editable": false
   },
   "outputs": [],
   "source": [
    "grader.check(\"q5\")"
   ]
  },
  {
   "cell_type": "markdown",
   "metadata": {},
   "source": [
    "Your table for 2004 should show that quite a few respondents have -1 as the value of `numgiven`. These respondents actually did not answer the important matters name generator."
   ]
  },
  {
   "cell_type": "markdown",
   "metadata": {
    "deletable": false,
    "editable": false
   },
   "source": [
    "## Question 6:\n",
    "Narrow the 2004 dataset down so that it does not have the respondents who have -1 values for `numgiven`\n",
    "\n",
    "_Hint: If needed, look back at Lab2 for examples of using `where` and `are.equal_to` and modify to `are.above`_"
   ]
  },
  {
   "cell_type": "code",
   "execution_count": null,
   "metadata": {
    "tags": []
   },
   "outputs": [],
   "source": [
    "gss_2004_interviewed = ..."
   ]
  },
  {
   "cell_type": "code",
   "execution_count": null,
   "metadata": {
    "deletable": false,
    "editable": false
   },
   "outputs": [],
   "source": [
    "grader.check(\"q6\")"
   ]
  },
  {
   "cell_type": "markdown",
   "metadata": {
    "deletable": false,
    "editable": false
   },
   "source": [
    "## Question 7:\n",
    "Narrow both datasets down so that they only have respondents who were asked the `numgiven` question and who provided answers to that question."
   ]
  },
  {
   "cell_type": "code",
   "execution_count": null,
   "metadata": {
    "tags": []
   },
   "outputs": [],
   "source": [
    "gss_1985.where('numgiven', are.not_equal_to(9)).where('numgiven', are.above(-1))"
   ]
  },
  {
   "cell_type": "code",
   "execution_count": null,
   "metadata": {
    "tags": []
   },
   "outputs": [],
   "source": [
    "gss_1985.where('numgiven', are.not_equal_to(9))\n",
    "# gss_2004_interviewed.where('numgiven', are.not_equal_to(9))"
   ]
  },
  {
   "cell_type": "code",
   "execution_count": null,
   "metadata": {
    "tags": []
   },
   "outputs": [],
   "source": [
    "gss_1985_responded = ...\n",
    "gss_2004_responded = ..."
   ]
  },
  {
   "cell_type": "code",
   "execution_count": null,
   "metadata": {
    "deletable": false,
    "editable": false
   },
   "outputs": [],
   "source": [
    "grader.check(\"q7\")"
   ]
  },
  {
   "cell_type": "markdown",
   "metadata": {},
   "source": [
    "Now we have the set of respondents we will study in more detail: those who responded to the 'important matters' name generator.\n",
    "\n",
    "**For the problems below, please use `gss_1985_responded` and `gss_2004_responded`.**"
   ]
  },
  {
   "cell_type": "markdown",
   "metadata": {},
   "source": [
    "Many analysts have focused on how many survey respondents report that they don't discuss important matters with anyone.  They interpret the fraction of respondents who don't report discussing important matters with anyone as an indicator for the amount of social isolation. (These respondents who report not discussing important matters with anyone have `numgiven` equal to 0.)"
   ]
  },
  {
   "cell_type": "markdown",
   "metadata": {
    "deletable": false,
    "editable": false
   },
   "source": [
    "<!-- BEGIN QUESTION -->\n",
    "\n",
    "## Question 8:\n",
    "Do you think this is a good way to try to quantify social isolation? Name one way this could be a good measure of social isolation, and one way this could be a bad measure of social isolation. Please be specific."
   ]
  },
  {
   "cell_type": "markdown",
   "metadata": {},
   "source": [
    "_Type your answer here, replacing this text._"
   ]
  },
  {
   "cell_type": "markdown",
   "metadata": {
    "deletable": false,
    "editable": false
   },
   "source": [
    "<!-- END QUESTION -->\n",
    "\n",
    "## Question 9:\n",
    "For both the 1985 and 2004 datasets, create a new variable, `isolated` which has the value False if the respondent reports discussing important matters with anyone, and True otherwise.\n"
   ]
  },
  {
   "cell_type": "code",
   "execution_count": null,
   "metadata": {
    "tags": []
   },
   "outputs": [],
   "source": [
    "isolated_1985 = ...\n",
    "isolated_2004 = ..."
   ]
  },
  {
   "cell_type": "code",
   "execution_count": null,
   "metadata": {
    "deletable": false,
    "editable": false
   },
   "outputs": [],
   "source": [
    "grader.check(\"q9\")"
   ]
  },
  {
   "cell_type": "markdown",
   "metadata": {
    "deletable": false,
    "editable": false
   },
   "source": [
    "## Question 10:\n",
    "Using the variable you just created, what proportion of respondents was socially isolated in 1985? In 2004?"
   ]
  },
  {
   "cell_type": "code",
   "execution_count": null,
   "metadata": {
    "tags": []
   },
   "outputs": [],
   "source": [
    "proportion_isolated_1985 = ...\n",
    "proportion_isolated_2004 = ...\n",
    "\n",
    "print(\"Proportion isolated in 1985: \", proportion_isolated_1985)\n",
    "print(\"Proportion isolated in 2004: \", proportion_isolated_2004)"
   ]
  },
  {
   "cell_type": "code",
   "execution_count": null,
   "metadata": {
    "deletable": false,
    "editable": false
   },
   "outputs": [],
   "source": [
    "grader.check(\"q10\")"
   ]
  },
  {
   "cell_type": "code",
   "execution_count": null,
   "metadata": {},
   "outputs": [],
   "source": [
    "gss_1985"
   ]
  },
  {
   "cell_type": "markdown",
   "metadata": {},
   "source": [
    "Here is a function that you may find useful in answering the next question. Given a row in a GSS dataset, the function returns `True` if one of the alters is a spouse, and `False` otherwise:"
   ]
  },
  {
   "cell_type": "code",
   "execution_count": null,
   "metadata": {},
   "outputs": [],
   "source": [
    "def reports_spouse(row):\n",
    "    return(row.item('spouse1') == 1 or row.item('spouse2') == 1 or row.item('spouse3') == 1 or row.item('spouse4') == 1 or row.item('spouse5') == 1)"
   ]
  },
  {
   "cell_type": "markdown",
   "metadata": {
    "deletable": false,
    "editable": false
   },
   "source": [
    "## Question 11:\n",
    "What proportion of married respondents named a spouse?"
   ]
  },
  {
   "cell_type": "code",
   "execution_count": null,
   "metadata": {
    "tags": []
   },
   "outputs": [],
   "source": [
    "married_1985 = gss_1985_responded.where(\"marital\", are.equal_to(...))\n",
    "married_spouses_1985 = married_1985.apply(...)\n",
    "married_spouses_proportion_1985 = ...\n",
    "\n",
    "married_2004 = gss_2004_responded.where(\"marital\", are.equal_to(...))\n",
    "married_spouses_2004 = married_2004.apply(...)\n",
    "married_spouses_proportion_2004 = ...\n",
    "print(\"proportion of married respondents naming spouse in 1985: \", married_spouses_proportion_1985)\n",
    "print(\"proportion of married respondents naming spouse in 2004: \", married_spouses_proportion_2004)"
   ]
  },
  {
   "cell_type": "code",
   "execution_count": null,
   "metadata": {
    "deletable": false,
    "editable": false
   },
   "outputs": [],
   "source": [
    "grader.check(\"q11\")"
   ]
  },
  {
   "cell_type": "markdown",
   "metadata": {},
   "source": [
    "### Homophily"
   ]
  },
  {
   "cell_type": "markdown",
   "metadata": {},
   "source": [
    " Below, you will find the functions that we used to convert data from wide to long as part of Lab 2. The `wide_to_long` function has been slightly modified to account for the different format of the variable names in the GSS dataset, but it works in the same way we saw in the lab."
   ]
  },
  {
   "cell_type": "code",
   "execution_count": null,
   "metadata": {},
   "outputs": [],
   "source": [
    "def repeat_single_col(data, var_name, times=5):\n",
    "    \"\"\"Repeats a single column multiple times.\n",
    "    \n",
    "    Parameters\n",
    "    ----------\n",
    "    var_name : str\n",
    "        Text that contains the name of the column to repeat.\n",
    "    \n",
    "    Returns\n",
    "    -------\n",
    "    np.array\n",
    "        A single array with the contents of the column repeated five times.\n",
    "    \n",
    "    Examples\n",
    "    --------\n",
    "    >>> repeat_single_col(Table().with_columns(['respondent_age', [10]]),\n",
    "                          'respondent_age')\n",
    "    \n",
    "    array([10, 10, 10, 10, 10])\n",
    "    \"\"\"\n",
    "    new_col = np.tile(data.column(var_name), times)\n",
    "    return new_col\n",
    "\n",
    "def wide_to_long(data, var_name, times=5):\n",
    "    \"\"\"Given columns of alter characteristics, stack them into one long column.\n",
    "    \n",
    "    Parameters\n",
    "    ----------\n",
    "    data : Table\n",
    "        The data table containing the alter characteristics\n",
    "    var_name : str\n",
    "        Text that contains the variable name; columns of the dataset should\n",
    "        match the pattern: [var_name][alter_number]\n",
    "        For example, if var_name is 'age' then this function expects to find\n",
    "        columns in the survey dataset named \n",
    "        'age1', 'age2', 'age3', 'age4', and 'age5'\n",
    "    times : int\n",
    "        The number of columns for each characteristic\n",
    "    \n",
    "    Returns\n",
    "    -------\n",
    "    np.array\n",
    "        A single array with the contents of all of the columns stacked on top of one another.\n",
    "    \n",
    "    Examples\n",
    "    --------\n",
    "    >>> wide_to_long(Table().with_columns(['age1', [10, 15],\n",
    "                                           'age2', [30, 35],\n",
    "                                           'age3', [20, 15],\n",
    "                                           'age4', [60, 70],\n",
    "                                           'age5', [20, 25]]),\n",
    "                     'age')\n",
    "    \n",
    "    array([10, 15, 30, 35, 20, 15, 60, 70, 20, 25])\n",
    "    \"\"\"\n",
    "    new_col = np.concatenate([data.column(var_name + str(idx)) for idx in range(1,times+1)])\n",
    "    return new_col"
   ]
  },
  {
   "cell_type": "markdown",
   "metadata": {
    "deletable": false,
    "editable": false
   },
   "source": [
    "## Question 12: \n",
    "Now we will use these functions to convert the wide-format data from 1985 and 2004 into long format. This will enable us to examine whether or not there is evidence of homophily in the GSS confidant reports from those two years.\n",
    "\n",
    "Follow the pattern that we used in Lab 2 to do this. Be sure to include the following:\n",
    "\n",
    "* respondent's age\n",
    "* alter's gender (called 'sex' in the dataset')\n",
    "* alter's age\n"
   ]
  },
  {
   "cell_type": "code",
   "execution_count": null,
   "metadata": {
    "tags": []
   },
   "outputs": [],
   "source": [
    "gss_1985_long_raw = ...\n",
    "gss_2004_long_raw = ..."
   ]
  },
  {
   "cell_type": "code",
   "execution_count": null,
   "metadata": {
    "deletable": false,
    "editable": false
   },
   "outputs": [],
   "source": [
    "grader.check(\"q12\")"
   ]
  },
  {
   "cell_type": "code",
   "execution_count": null,
   "metadata": {},
   "outputs": [],
   "source": [
    "gss_1985_responded.show(10)"
   ]
  },
  {
   "cell_type": "markdown",
   "metadata": {
    "deletable": false,
    "editable": false
   },
   "source": [
    "## Question 13:\n",
    "Not all respondents reported 5 alters. In cases where alter information is missing, `alter_age` is coded as -1. Furthermore, in cases where respondents did report about an alter, but they did not know or refused to give the alter's age, [the codebook](http://gss.norc.org/documents/codebook/GSS_Codebook.pdf) tells use that `alter_age` will have the value 98 or 99.\n",
    "\n",
    "Create the Tables gss_1985_long and gss_2004_long, which start from `gss_1985_long_raw` and `gss_2004_long_raw` and filter out rows where `alter_age` equals -1, 98, or 99 so that we are left with only actual reported alters whose age was given.\n",
    "\n",
    "Hint: use `.where()` to perform filtering."
   ]
  },
  {
   "cell_type": "code",
   "execution_count": null,
   "metadata": {
    "tags": []
   },
   "outputs": [],
   "source": [
    "gss_1985_long = gss_1985_long_raw.where(...)\n",
    "gss_1985_long = gss_1985_long.where(...)\n",
    "gss_1985_long = gss_1985_long.where(...)\n",
    "\n",
    "gss_2004_long = gss_2004_long_raw.where(...)\n",
    "gss_2004_long = gss_2004_long.where(...)\n",
    "gss_2004_long = gss_2004_long.where(...)"
   ]
  },
  {
   "cell_type": "code",
   "execution_count": null,
   "metadata": {
    "deletable": false,
    "editable": false
   },
   "outputs": [],
   "source": [
    "grader.check(\"q13\")"
   ]
  },
  {
   "cell_type": "markdown",
   "metadata": {
    "deletable": false,
    "editable": false
   },
   "source": [
    "<!-- BEGIN QUESTION -->\n",
    "\n",
    "## Question 14:\n",
    "Create a scatterplot of the respondent's age and the alter's age (make a separate plot for 1985 and for 2004)."
   ]
  },
  {
   "cell_type": "code",
   "execution_count": null,
   "metadata": {
    "tags": []
   },
   "outputs": [],
   "source": [
    "gss_1985_long.scatter(...)"
   ]
  },
  {
   "cell_type": "code",
   "execution_count": null,
   "metadata": {
    "tags": []
   },
   "outputs": [],
   "source": [
    "gss_2004_long.scatter(...)"
   ]
  },
  {
   "cell_type": "markdown",
   "metadata": {
    "deletable": false,
    "editable": false
   },
   "source": [
    "<!-- END QUESTION -->\n",
    "\n",
    "<!-- BEGIN QUESTION -->\n",
    "\n",
    "## Question 15:\n",
    "What do the scatter plots you made suggest about homophily in Americans' confidant networks? How similar or different are these patterns to what we saw from our survey of Berkeley students? (Note: Look back at Lab2. There is no single right answer here -- just interpret the plots and provide an argument for why your interpretation might be right.)"
   ]
  },
  {
   "cell_type": "markdown",
   "metadata": {},
   "source": [
    "_Type your answer here, replacing this text._"
   ]
  },
  {
   "cell_type": "markdown",
   "metadata": {
    "deletable": false,
    "editable": false
   },
   "source": [
    "<!-- END QUESTION -->\n",
    "\n",
    "# Adjacency Matrices and Edge Lists"
   ]
  },
  {
   "cell_type": "markdown",
   "metadata": {
    "deletable": false,
    "editable": false
   },
   "source": [
    "<!-- BEGIN QUESTION -->\n",
    "\n",
    "## Question 16:\n",
    "Consider the undirected graph as shown in the figure below."
   ]
  },
  {
   "cell_type": "markdown",
   "metadata": {
    "deletable": false,
    "editable": false
   },
   "source": [
    "<img src=\"fig_Graph1.png\" height=40% width=40%>"
   ]
  },
  {
   "cell_type": "markdown",
   "metadata": {
    "deletable": false,
    "editable": false
   },
   "source": [
    "1. Write down the adjacency matrix for this graph\n",
    "2. Write down the edge list for the graph\n",
    "3. Which representation is better for this graph and why?\n",
    "\n",
    "(Your answers can and should be in text, not code; you can use triple backticks (like \\`\\`\\` text here \\`\\`\\`) to format text)"
   ]
  },
  {
   "cell_type": "markdown",
   "metadata": {},
   "source": [
    "_Type your answer here, replacing this text._"
   ]
  },
  {
   "cell_type": "markdown",
   "metadata": {
    "deletable": false,
    "editable": false
   },
   "source": [
    "<!-- END QUESTION -->\n",
    "\n",
    "# Breadth first search\n",
    "\n",
    "In class, we covered an example using the ARPANET graph that systematically compute the distance between one node (MIT) and every other node (lecture 2). The searching algorithm we used is called breadth first search. Use this algorithm and calculate the longest distance between two nodes in the following graph.\n",
    "\n",
    "<img src=\"fig_bfs.png\" width=\"240\" height=\"180\" align=\"center\"/>\n",
    "<br>"
   ]
  },
  {
   "cell_type": "markdown",
   "metadata": {},
   "source": [
    "## Question 17:\n",
    "Write down the steps in the following cell and enter the longest distance between each pair of nodes as q17.\n",
    "\n",
    "_Hint: Array d1_a should include nodes that are directly connected to A. Array d2_a should include all nodes that are distance 2 from A. Array d3_a should include all nodes distance 3 from A. And so on..._"
   ]
  },
  {
   "cell_type": "code",
   "execution_count": null,
   "metadata": {
    "tags": []
   },
   "outputs": [],
   "source": [
    "# Begin with A\n",
    "d1_a = make_array(...) # Nodes that have distance 1 with A\n",
    "...\n",
    "# Move on to all other nodes\n",
    "\n",
    "q17 = ..."
   ]
  },
  {
   "cell_type": "code",
   "execution_count": null,
   "metadata": {
    "deletable": false,
    "editable": false
   },
   "outputs": [],
   "source": [
    "grader.check(\"q17\")"
   ]
  },
  {
   "cell_type": "markdown",
   "metadata": {},
   "source": [
    "# SUBMIT YOUR ASSIGNMENT"
   ]
  },
  {
   "cell_type": "markdown",
   "metadata": {
    "deletable": false,
    "editable": false
   },
   "source": [
    "---\n",
    "\n",
    "To double-check your work, the cell below will rerun all of the autograder tests."
   ]
  },
  {
   "cell_type": "code",
   "execution_count": null,
   "metadata": {
    "deletable": false,
    "editable": false
   },
   "outputs": [],
   "source": [
    "grader.check_all()"
   ]
  },
  {
   "cell_type": "markdown",
   "metadata": {
    "deletable": false,
    "editable": false
   },
   "source": [
    "## Submission\n",
    "\n",
    "Make sure you have run all cells in your notebook in order before running the cell below, so that all images/graphs appear in the output. The cell below will generate a zip file for you to submit. **Please save before exporting!**\n",
    "\n",
    "Please upload the .zip file to Gradescope."
   ]
  },
  {
   "cell_type": "code",
   "execution_count": null,
   "metadata": {
    "deletable": false,
    "editable": false
   },
   "outputs": [],
   "source": [
    "# Save your notebook first, then run this cell to export your submission.\n",
    "grader.export(run_tests=True)"
   ]
  },
  {
   "cell_type": "markdown",
   "metadata": {},
   "source": [
    " "
   ]
  }
 ],
 "metadata": {
  "anaconda-cloud": {},
  "kernelspec": {
   "display_name": "Python 3 (ipykernel)",
   "language": "python",
   "name": "python3"
  },
  "language_info": {
   "codemirror_mode": {
    "name": "ipython",
    "version": 3
   },
   "file_extension": ".py",
   "mimetype": "text/x-python",
   "name": "python",
   "nbconvert_exporter": "python",
   "pygments_lexer": "ipython3",
   "version": "3.9.12"
  },
  "otter": {
   "OK_FORMAT": true,
   "tests": {
    "q1": {
     "name": "q1",
     "points": 2,
     "suites": [
      {
       "cases": [
        {
         "code": ">>> np.isclose(gss_number_of_rows, 59599)\nTrue",
         "failure_message": "Incorrect number of rows",
         "hidden": false,
         "locked": false
        },
        {
         "code": ">>> np.isclose(gss_number_of_cols, 20)\nTrue",
         "failure_message": "Incorrect number of columns",
         "hidden": false,
         "locked": false
        }
       ],
       "scored": true,
       "setup": "",
       "teardown": "",
       "type": "doctest"
      }
     ]
    },
    "q10": {
     "name": "q10",
     "points": 2,
     "suites": [
      {
       "cases": [
        {
         "code": ">>> round(proportion_isolated_1985, 3) == 0.089\nTrue",
         "failure_message": "1985 survey incorrect proportion isolated",
         "hidden": false,
         "locked": false
        },
        {
         "code": ">>> round(proportion_isolated_2004, 3) == 0.25\nTrue",
         "failure_message": "2004 survey incorrect proportion isolated",
         "hidden": false,
         "locked": false
        }
       ],
       "scored": true,
       "setup": "",
       "teardown": "",
       "type": "doctest"
      }
     ]
    },
    "q11": {
     "name": "q11",
     "points": 1,
     "suites": [
      {
       "cases": [
        {
         "code": ">>> np.isclose(married_spouses_proportion_1985, 0.67, atol = 0.01)\nTrue",
         "failure_message": "1984 proportion incorrect",
         "hidden": false,
         "locked": false
        },
        {
         "code": ">>> np.isclose(married_spouses_proportion_2004, 0.58, atol = 0.01) \nTrue",
         "failure_message": "2004 proportion incorrect",
         "hidden": false,
         "locked": false
        }
       ],
       "scored": true,
       "setup": "",
       "teardown": "",
       "type": "doctest"
      }
     ]
    },
    "q12": {
     "name": "q12",
     "points": 1,
     "suites": [
      {
       "cases": [
        {
         "code": ">>> gss_1985_long_raw.num_rows == 7655\nTrue",
         "failure_message": "1985 incorrect number of rows. Hint- use `repeat_single_col` to replicate ego information and `wide_to_long` to pivot the alter information, as done in lab1",
         "hidden": false,
         "locked": false
        },
        {
         "code": ">>> gss_2004_long_raw.num_rows == 7130\nTrue",
         "failure_message": "2004 incorrect number of rows. Hint- use `repeat_single_col` to replicate ego information and `wide_to_long` to pivot the alter information, as done in lab1",
         "hidden": false,
         "locked": false
        }
       ],
       "scored": true,
       "setup": "",
       "teardown": "",
       "type": "doctest"
      }
     ]
    },
    "q13": {
     "name": "q13",
     "points": 1,
     "suites": [
      {
       "cases": [
        {
         "code": ">>> gss_1985_long.num_rows == 4429\nTrue",
         "failure_message": "1985 incorrect number of rows.",
         "hidden": false,
         "locked": false
        },
        {
         "code": ">>> gss_2004_long.num_rows == 2811\nTrue",
         "failure_message": "2004 incorrect number of rows.",
         "hidden": false,
         "locked": false
        }
       ],
       "scored": true,
       "setup": "",
       "teardown": "",
       "type": "doctest"
      }
     ]
    },
    "q17": {
     "name": "q17",
     "points": 1,
     "suites": [
      {
       "cases": [
        {
         "code": ">>> q17 == 4\nTrue",
         "hidden": false,
         "locked": false
        }
       ],
       "scored": true,
       "setup": "",
       "teardown": "",
       "type": "doctest"
      }
     ]
    },
    "q2": {
     "name": "q2",
     "points": 2,
     "suites": [
      {
       "cases": [
        {
         "code": ">>> np.isclose(smallest_year, 1972)\nTrue",
         "failure_message": "Incorrect earliest year. Hint- select a column using `Table.column('column name in quotes')`",
         "hidden": false,
         "locked": false
        },
        {
         "code": ">>> np.isclose(largest_year, 2014)\nTrue",
         "failure_message": "Incorrect latest year. Hint- select a column using `Table.column('column name in quotes')`",
         "hidden": false,
         "locked": false
        }
       ],
       "scored": true,
       "setup": "",
       "teardown": "",
       "type": "doctest"
      }
     ]
    },
    "q3": {
     "name": "q3",
     "points": 2,
     "suites": [
      {
       "cases": [
        {
         "code": ">>> np.isclose(gss_1985.num_rows, 1534)\nTrue",
         "failure_message": "1985 survey incorrect number of rows. Hint- use functions `Table.where` and `are.equal_to(...)`",
         "hidden": false,
         "locked": false
        },
        {
         "code": ">>> np.isclose(gss_2004.num_rows, 2812)\nTrue",
         "failure_message": "2004 survey incorrect number of rows. Hint- use functions `Table.where` and `are.equal_to(...)`",
         "hidden": false,
         "locked": false
        }
       ],
       "scored": true,
       "setup": "",
       "teardown": "",
       "type": "doctest"
      }
     ]
    },
    "q4": {
     "name": "q4",
     "points": 1,
     "suites": [
      {
       "cases": [
        {
         "code": ">>> np.isclose(responses_from_1985, 1534)\nTrue",
         "failure_message": "1985 survey incorrect number of rows",
         "hidden": false,
         "locked": false
        },
        {
         "code": ">>> np.isclose(responses_from_2004, 2812)\nTrue",
         "failure_message": "2004 survey incorrect number of rows",
         "hidden": false,
         "locked": false
        }
       ],
       "scored": true,
       "setup": "",
       "teardown": "",
       "type": "doctest"
      }
     ]
    },
    "q5": {
     "name": "q5",
     "points": 1,
     "suites": [
      {
       "cases": [
        {
         "code": ">>> np.isclose(gss_1985_numgiven.num_rows, 8)\nTrue",
         "failure_message": "1985 survey incorrect number of rows.",
         "hidden": false,
         "locked": false
        },
        {
         "code": ">>> np.isclose(gss_1985_numgiven.num_columns, 2)\nTrue",
         "failure_message": "1985 survey incorrect number of columns",
         "hidden": false,
         "locked": false
        },
        {
         "code": ">>> np.isclose(gss_2004_numgiven.num_rows, 9)\nTrue",
         "failure_message": "2004 survey incorrect number of rows",
         "hidden": false,
         "locked": false
        },
        {
         "code": ">>> np.isclose(gss_2004_numgiven.num_columns, 2)\nTrue",
         "failure_message": "2004 survey incorrect number of columns",
         "hidden": false,
         "locked": false
        }
       ],
       "scored": true,
       "setup": "",
       "teardown": "",
       "type": "doctest"
      }
     ]
    },
    "q6": {
     "name": "q6",
     "points": 1,
     "suites": [
      {
       "cases": [
        {
         "code": ">>> np.isclose(gss_2004_interviewed.num_rows, 1472)\nTrue",
         "failure_message": "Incorrect number of rows",
         "hidden": false,
         "locked": false
        }
       ],
       "scored": true,
       "setup": "",
       "teardown": "",
       "type": "doctest"
      }
     ]
    },
    "q7": {
     "name": "q7",
     "points": 1,
     "suites": [
      {
       "cases": [
        {
         "code": ">>> np.isclose(gss_2004_responded.num_rows, 1426)\nTrue",
         "failure_message": "2004 survey incorrect number of columns.",
         "hidden": false,
         "locked": false
        },
        {
         "code": ">>> np.isclose(gss_1985_responded.num_rows, 1531)\nTrue",
         "failure_message": "1985 survey incorrect number of columns",
         "hidden": false,
         "locked": false
        }
       ],
       "scored": true,
       "setup": "",
       "teardown": "",
       "type": "doctest"
      }
     ]
    },
    "q9": {
     "name": "q9",
     "points": 1,
     "suites": [
      {
       "cases": [
        {
         "code": ">>> np.isclose(sum(isolated_1985),136)\nTrue",
         "failure_message": "1985 survey incorrect number",
         "hidden": false,
         "locked": false
        },
        {
         "code": ">>> np.isclose(sum(isolated_2004), 356)\nTrue",
         "failure_message": "2004 survey incorrect number",
         "hidden": false,
         "locked": false
        }
       ],
       "scored": true,
       "setup": "",
       "teardown": "",
       "type": "doctest"
      }
     ]
    }
   }
  }
 },
 "nbformat": 4,
 "nbformat_minor": 1
}
